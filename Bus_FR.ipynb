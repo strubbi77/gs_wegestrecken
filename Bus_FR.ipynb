{
 "cells": [
  {
   "cell_type": "code",
   "execution_count": null,
   "id": "41369496-c9f4-45b7-9791-a997b8dc145c",
   "metadata": {},
   "outputs": [],
   "source": [
    "import osmnx as ox\n",
    "# get the building footprints in Macclesfield\n",
    "place = \"Stadtkreis Freiburg\"\n",
    "place_abk='SKFR'\n",
    "#tags = {'building': 'school'}\n",
    "# Ebene Landkreis\n",
    "tags = {'admin_level': '6'}\n",
    "#gdf = ox.geometries_from_place(place, tags)\n",
    "\n",
    "#tags = {'boundary': 'administrative'}   \n",
    "\n",
    "bh_osmid='R62768'\n",
    "lk_bh=ox.geocode_to_gdf(bh_osmid, by_osmid=True)\n",
    "lk_bh_poly=lk_bh.geometry[0]"
   ]
  },
  {
   "cell_type": "code",
   "execution_count": null,
   "id": "ed35b673-cfcb-4732-88b4-a695d146d594",
   "metadata": {},
   "outputs": [],
   "source": [
    "lk_bh.plot()"
   ]
  },
  {
   "cell_type": "code",
   "execution_count": null,
   "id": "82d12584-f273-4a6a-91af-35d8f75b0460",
   "metadata": {},
   "outputs": [],
   "source": [
    "# Ebene Gemeinde\n",
    "tags = {'admin_level': '6'}\n",
    "gdf =ox.features.features_from_polygon(lk_bh_poly,tags)\n",
    "in_bh=gdf.within(lk_bh_poly)\n",
    "gem_in_bh_gdf=gdf[in_bh & (gdf['name'].notnull()) & (gdf['type'] == 'boundary') ]  "
   ]
  },
  {
   "cell_type": "code",
   "execution_count": null,
   "id": "386b7230-decd-4959-b4e4-8984d89fd80c",
   "metadata": {},
   "outputs": [],
   "source": [
    "import json\n",
    "with open('schulen.json') as f:\n",
    "    x = json.load(f)"
   ]
  },
  {
   "cell_type": "code",
   "execution_count": null,
   "id": "2b805832-53ca-4f31-867e-56aa349a44db",
   "metadata": {},
   "outputs": [],
   "source": [
    "# Ebene Ortsteile\n",
    "#in_bh_gdf.plot()\n",
    "tags = {'boundary': 'administrative'}\n",
    "orte_bh_gdf =ox.features.features_from_polygon(lk_bh_poly,tags)\n",
    "in_bh=orte_bh_gdf.within(lk_bh_poly)\n",
    "ort_in_bh_gdf=orte_bh_gdf[in_bh & (orte_bh_gdf['name'].notnull()) & (orte_bh_gdf['type'] == 'boundary') & orte_bh_gdf['de:regionalschluessel'].isnull()] \n"
   ]
  },
  {
   "cell_type": "code",
   "execution_count": null,
   "id": "ea416f80-7ded-4482-821f-e15c2cdaf890",
   "metadata": {},
   "outputs": [],
   "source": [
    "# Straßen in LK BH\n",
    "network_type = \"walk\"\n",
    "trip_times = [5, 10, 15, 20, 25,30,40,120]  # in minutes\n",
    "travel_speed = 3  # walking speed in km/hour\n",
    "\n",
    "# get one color for each isochrone\n",
    "iso_colors = ox.plot.get_colors(n=len(trip_times), cmap=\"plasma\", start=0)\n",
    "\n",
    "lk_bh_walk=ox.graph_from_polygon(lk_bh_poly,network_type=network_type)\n",
    "meters_per_minute = travel_speed * 1000 / 60  # km per hour to m per minute\n",
    "for _, _, _, data in lk_bh_walk.edges(data=True, keys=True):\n",
    "    data[\"time\"] = data[\"length\"] / meters_per_minute\n",
    "\n",
    "tags = {'addr:housenumber': True}\n",
    "lk_build_hn=ox.features_from_polygon(lk_bh_poly,tags)\n",
    "\n",
    "tags_lu={'landuse':True}\n",
    "#         ['residential','farmyard','industrial','commercial']}\n",
    "lk_flaeche_landuse=ox.features_from_polygon(lk_bh_poly,tags_lu)\n",
    "\n"
   ]
  },
  {
   "cell_type": "code",
   "execution_count": null,
   "id": "537f906d-18d7-4476-bec5-0b9c25a65d95",
   "metadata": {},
   "outputs": [],
   "source": [
    "import networkx as nx\n",
    "from shapely.geometry import Point\n",
    "from matplotlib import pyplot as plt\n",
    "import geopandas as gpd\n",
    "from matplotlib.colors import to_rgba\n",
    "import pandas as pd\n",
    "import matplotlib        \n",
    "br=1\n",
    "anz=1\n",
    "\n",
    "#br=2\n",
    "#anz=25\n",
    "#fig, axs = plt.subplots(anz,br,figsize=(30, 120))\n",
    "#sw=0\n",
    "\n",
    "\n",
    "cmap = matplotlib.cm.jet\n",
    "norm = matplotlib.colors.BoundaryNorm(trip_times, cmap.N)\n",
    "\n",
    "for index, row in gem_in_bh_gdf.iterrows():\n",
    "    gem_name=row['name']\n",
    "    if gem_name=='Endingen':\n",
    "        poly_merzhausen=gpd.GeoSeries(row['geometry'])\n",
    "\n",
    "anz_erg=0\n",
    "for index, row in gem_in_bh_gdf.iterrows():\n",
    "    gem_name=row['name']\n",
    "    \n",
    "    #if gem_name=='Ehrenkirchen' or gem_name=='Au':\n",
    "    #if gem_name=='Heitersheim':\n",
    "    if 1==1:\n",
    "        node_colors = {}\n",
    "        node_time = {}\n",
    "        poly_gem_road = gpd.GeoSeries(row['geometry'])\n",
    "        if gem_name=='Forchheim':\n",
    "            poly_gem_road=poly_gem_road.union(poly_merzhausen)\n",
    "        roads=ox.truncate.truncate_graph_polygon(lk_bh_walk,poly_gem_road.any(), truncate_by_edge=True)\n",
    "        \n",
    "        sc=[]\n",
    "        for cur in (x[\"schools\"]):\n",
    "            p=Point(cur[\"lng\"],cur[\"lat\"])\n",
    "            if p.within(poly_gem_road).any(): \n",
    "                sc=sc+[[p,cur[\"name\"]]]\n",
    "                poi=ox.distance.nearest_nodes(roads, cur[\"lng\"],cur[\"lat\"])\n",
    "                for trip_time, color in zip(sorted(trip_times, reverse=True), iso_colors):\n",
    "                    subgraph = nx.ego_graph(roads, poi, radius=trip_time, distance=\"time\")\n",
    "                    rgba_color=to_rgba(color)\n",
    "                    for node in subgraph.nodes():\n",
    "                        col_time=10000000\n",
    "                        if node in node_time:\n",
    "                            col_time=node_time[node]\n",
    "                        if trip_time<col_time:\n",
    "                            node_time[node] = trip_time    \n",
    "                        col_old=0\n",
    "                        if node in node_colors:\n",
    "                            col_old=sum(node_colors[node])\n",
    "                        #try:\n",
    "                        if sum(rgba_color)>col_old:\n",
    "                            node_colors[node] = rgba_color\n",
    "                        #except Exception as e:\n",
    "                        #    print(color)\n",
    "                        #    print(col_old)\n",
    "        \n",
    "   \n",
    "                \n",
    "        \n",
    "        poly_gem_hn = gpd.GeoSeries(row['geometry'])\n",
    "        poly_gem_hn_gdf=row['geometry']\n",
    "\n",
    "\n",
    "        \n",
    "\n",
    "        in_poly_gem_hn=lk_build_hn.within(poly_gem_hn_gdf)\n",
    "        gem_in_hn_gdf=lk_build_hn[in_poly_gem_hn ]  \n",
    "\n",
    "        in_poly_gem_landuse_ol=lk_flaeche_landuse.overlaps(poly_gem_hn_gdf)\n",
    "        in_poly_gem_landuse_wi=lk_flaeche_landuse.within(poly_gem_hn_gdf)\n",
    "        gem_landuse_gdf=lk_flaeche_landuse[in_poly_gem_landuse_ol | in_poly_gem_landuse_wi]  \n",
    "        #gem_landuse_gdf=gem_landuse_gdf.append(lk_flaeche_landuse[in_poly_gem_landuse_wi])\n",
    "\n",
    "        \n",
    "        subplot=ox.distance.nearest_nodes(roads,gem_in_hn_gdf['geometry'].to_crs('EPSG:3857').centroid.to_crs('EPSG:4326').x,gem_in_hn_gdf['geometry'].to_crs('EPSG:3857').centroid.to_crs('EPSG:4326').y)\n",
    "\n",
    "        #gem_in_hn_gdf['triptime']=200\n",
    "        gem_in_hn_gdf.loc[gem_in_hn_gdf.index,['gem_name']]=gem_name\n",
    "        gem_in_hn_gdf.loc[gem_in_hn_gdf.index,['landuse']]='unbekannt'\n",
    "        gem_in_hn_gdf.loc[gem_in_hn_gdf.index,['ortsteil']]='kein Ortsteil'\n",
    "        gem_in_hn_gdf.loc[gem_in_hn_gdf.index,['nearest_node']]=0\n",
    "        gem_in_hn_gdf.loc[gem_in_hn_gdf.index,['nearest_node']]=subplot\n",
    "        \n",
    "        gem_in_hn_gdf=gem_in_hn_gdf.merge(pd.DataFrame(node_time.items(),columns=['node','triptime']),how='left',left_on='nearest_node', right_on='node')\n",
    "        gem_in_hn_gdf=gem_in_hn_gdf.fillna({'triptime':120})\n",
    "\n",
    "        for cur in gem_landuse_gdf['landuse'].unique():\n",
    "            lu_speziell=gem_landuse_gdf[gem_landuse_gdf['landuse']==cur]\n",
    "            st=0\n",
    "            for index, row in lu_speziell.iterrows():\n",
    "                if st==0:\n",
    "                    poly_gem_lu=row['geometry']\n",
    "                    st+=1\n",
    "                else:\n",
    "                    poly_gem_lu=poly_gem_lu.union(row['geometry'])\n",
    "            in_hn_in_landuse=gem_in_hn_gdf.within(poly_gem_lu)\n",
    "            gem_in_hn_gdf.loc[in_hn_in_landuse,['landuse']]=cur\n",
    "\n",
    "        in_gem=ort_in_bh_gdf.within(poly_gem_hn_gdf)\n",
    "        ort_in_gem=ort_in_bh_gdf[in_gem]\n",
    "        for idx_ort, row_ort in ort_in_gem.iterrows():\n",
    "            ort_poly=row_ort['geometry']            \n",
    "            in_hn_in_ort=gem_in_hn_gdf.within(ort_poly)\n",
    "            gem_in_hn_gdf.loc[in_hn_in_ort,['ortsteil']]=row_ort['name']\n",
    "\n",
    "        #gem_in_hn_gdf=gem_in_hn_gdf[['triptime']].fillna(value=120)\n",
    "        \n",
    "\n",
    "\n",
    "        if anz_erg==0:\n",
    "            all_hn=gem_in_hn_gdf\n",
    "            anz_erg+=1\n",
    "        else:\n",
    "            \n",
    "            all_hn=pd.concat([all_hn,gem_in_hn_gdf])\n",
    "\n",
    "\n",
    "        gp_x=poly_gem_hn.bounds['maxx']-poly_gem_hn.bounds['minx']\n",
    "        gp_y=poly_gem_hn.bounds['maxy']-poly_gem_hn.bounds['miny']\n",
    "        md=max(gp_x[0],gp_y[0])\n",
    "        size=60/md\n",
    "        fig, axs = plt.subplots(anz,br,figsize=(int(gp_x*size), int(gp_y*size)))\n",
    "        #fig, axs = plt.subplots(anz,br)\n",
    "        axs.set_title(gem_name)\n",
    "\n",
    "        gem_landuse_gdf[gem_landuse_gdf['landuse'].isin(['residential','commercial','farmyard','industrial'])].plot(ax=axs,column='landuse', facecolor='none',legend=True)\n",
    "\n",
    "\n",
    "        for idx_orte, row_orte in ort_in_gem.iterrows():\n",
    "            p_center=row_orte['geometry'].centroid\n",
    "            poly_ort = gpd.GeoSeries(row_orte['geometry'])\n",
    "            poly_ort.plot(ax=axs,facecolor='none', edgecolor='green')\n",
    "            axs.annotate(text=row_orte[\"name\"], xy=(p_center.x,p_center.y), horizontalalignment='center')\n",
    "        poly_gem_hn.plot(ax=axs,facecolor='none', edgecolor='blue') \n",
    "\n",
    "        gem_in_hn_gdf.plot(ax=axs,column='triptime',markersize =5, cmap=cmap,norm=norm)\n",
    "        #nc = [node_colors[node] if node in node_colors else \"none\" for node in gdf_gem_walk.nodes()]\n",
    "        #ns = [5 if node in node_colors else 0 for node in gdf_gem_walk.nodes()]\n",
    "        #poly_ort.plot(ax=axs,facecolor='none', edgecolor='green')\n",
    "        fig, ax = ox.plot_graph(\n",
    "            roads,\n",
    "            ax=axs,\n",
    "            #node_color=nc,\n",
    "            #node_size=ns,\n",
    "            node_alpha=0.8,\n",
    "            edge_linewidth=0.2,\n",
    "            edge_color=\"#999999\",\n",
    "            show=False, \n",
    "            close=False\n",
    "        )\n",
    "        for cur in sc:\n",
    "            axs.scatter(cur[0].x,cur[0].y,color='red',s=80)    \n",
    "            axs.annotate(text=cur[1], xy=(cur[0].x,cur[0].y), horizontalalignment='center')        \n",
    "\n",
    "        plt.savefig('images/'+place_abk+'-'+gem_name+'.png')\n",
    "\n",
    "erg=all_hn.groupby(['gem_name','ortsteil','landuse','triptime']).size().to_frame('size')\n",
    "erg.to_csv(place_abk+'ausw_2025.csv')\n",
    "            #poly_gem_road.plot()\n",
    "#poly_gem_hn.plot()\n",
    "#gem_landuse_gdf.plot()\n",
    "#gem_in_hn_gdf.plot()\n",
    "\n",
    "#nc = [node_colors[node] if node in node_colors else \"none\" for node in roads.nodes()]\n",
    "#ns = [15 if node in node_colors else 0 for node in roads.nodes()]\n",
    "#fig, ax = ox.plot_graph(\n",
    "#    roads,\n",
    "#    node_color=nc,\n",
    "#    node_size=ns,\n",
    "#    node_alpha=0.8,\n",
    "#    edge_linewidth=0.2,\n",
    "#    edge_color=\"#999999\",\n",
    "#    show=False, \n",
    "#    close=False\n",
    "#)"
   ]
  },
  {
   "cell_type": "code",
   "execution_count": null,
   "id": "d214e997-ff4c-482c-a3ad-70265691d264",
   "metadata": {},
   "outputs": [],
   "source": [
    "#gem_in_hn_gdf.groupby(['ortsteil','landuse','triptime']).size()\n",
    "#gem_in_hn_gdf.groupby(['ortsteil','landuse','triptime']).size()\n",
    "gp_x[0]"
   ]
  },
  {
   "cell_type": "code",
   "execution_count": null,
   "id": "8cbe2ad7-9d58-47e7-b502-df9935a1970c",
   "metadata": {},
   "outputs": [],
   "source": [
    "gem_in_hn_gdf"
   ]
  },
  {
   "cell_type": "code",
   "execution_count": null,
   "id": "c2196e28-9ae6-4b82-90f6-21bf27a7bc1f",
   "metadata": {},
   "outputs": [],
   "source": [
    "da=pd.concat([da,gem_in_hn_gdf])"
   ]
  },
  {
   "cell_type": "code",
   "execution_count": null,
   "id": "30f84fdd-0843-4ac0-a7d1-5a7180f48b90",
   "metadata": {},
   "outputs": [],
   "source": [
    "erg"
   ]
  },
  {
   "cell_type": "code",
   "execution_count": null,
   "id": "5015940f-7a4c-4c84-a842-600cedecddb9",
   "metadata": {},
   "outputs": [],
   "source": [
    "gem_landuse_gdf[gem_landuse_gdf['landuse']=='residential']"
   ]
  },
  {
   "cell_type": "code",
   "execution_count": null,
   "id": "db8d3a0d-0f39-4c10-8b78-eefea2370cee",
   "metadata": {},
   "outputs": [],
   "source": [
    "erg3=erg2.add(gem_in_hn_gdf.groupby(['gem_name','ortsteil','landuse','triptime']).size().to_frame('size'))"
   ]
  },
  {
   "cell_type": "code",
   "execution_count": null,
   "id": "9e477f3b-02b3-4cfd-bbbd-dbd3aee45350",
   "metadata": {},
   "outputs": [],
   "source": [
    "da.groupby(['gem_name','ortsteil','landuse','triptime']).size()"
   ]
  },
  {
   "cell_type": "code",
   "execution_count": null,
   "id": "080a8a52-1493-4ba6-96a1-90b153b64618",
   "metadata": {},
   "outputs": [],
   "source": [
    "type(all_hn)"
   ]
  },
  {
   "cell_type": "code",
   "execution_count": null,
   "id": "6bb7eff8-4220-49d3-97a8-f85c9b885e7a",
   "metadata": {},
   "outputs": [],
   "source": [
    "erg.save_csv(place_abk+'ausw_2025.csv')"
   ]
  },
  {
   "cell_type": "code",
   "execution_count": null,
   "id": "ad913fd9-a92d-4fa0-b490-0c989fffc097",
   "metadata": {},
   "outputs": [],
   "source": [
    "\n",
    "gp_x=lk_bh.bounds['maxx']-lk_bh.bounds['minx']\n",
    "gp_y=lk_bh.bounds['maxy']-lk_bh.bounds['miny']"
   ]
  },
  {
   "cell_type": "code",
   "execution_count": null,
   "id": "dd189d6d-9db1-42e3-bf29-513738166025",
   "metadata": {},
   "outputs": [],
   "source": [
    "gp_x=lk_bh.bounds['maxx']-lk_bh.bounds['minx']\n",
    "gp_y=lk_bh.bounds['maxy']-lk_bh.bounds['miny']\n",
    "md=max(gp_x[0],gp_y[0])\n",
    "size=60/md\n",
    "fig, axs = plt.subplots(figsize=(int(gp_x*size), int(gp_y*size)))\n",
    "axs.set_title('Landkreis Breisgau Hochschwarzwald')\n",
    "lk_bh.plot(ax=axs,facecolor='none', edgecolor='green')\n",
    "#lk_flaeche_landuse[lk_flaeche_landuse['landuse'].isin(['commercial','farmyard','industrial'])].plot(ax=axs,column='landuse', facecolor='none',legend=True)\n",
    "ort_in_bh_gdf.plot(ax=axs,facecolor='none', edgecolor='green')\n",
    "gem_in_bh_gdf.plot(ax=axs,facecolor='none', edgecolor='blue')\n",
    "all_hn.plot(ax=axs,column='triptime',markersize =5, cmap=cmap,norm=norm)\n",
    "y_init = axs.get_ylim()\n",
    "x_init = axs.get_xlim()\n",
    "for index, row in gem_in_bh_gdf.iterrows():\n",
    "    gem_name=row['name'] \n",
    "    res=sum(erg[erg.index.isin([gem_name], level=0) & erg.index.isin([120.0], level=3)]['size'])/sum(erg[erg.index.isin([gem_name], level=0)]['size'])\n",
    "    pos=row['geometry']\n",
    "    sizes=[res,1-res]\n",
    "    labels=['{} %'.format(round(res*100)),\"\"]\n",
    "    color_map = ['red', 'green']\n",
    "    #print(gem_name,res,row['name'],pos.centroid.x,  )\n",
    "    axs.pie(sizes,center=(pos.centroid.x,pos.centroid.y),radius=1/180, colors=color_map,labels=labels)\n",
    "    axs.annotate(text=gem_name, xy=(pos.centroid.x,pos.centroid.y-0.01), horizontalalignment='center')\n",
    "\n",
    "for index, row in ort_in_bh_gdf.iterrows():\n",
    "    gem_name=row['name'] \n",
    "    res=0\n",
    "    if sum(erg[erg.index.isin([gem_name], level=1)]['size'])  >0:\n",
    "        res=sum(erg[erg.index.isin([gem_name], level=1) & erg.index.isin([120.0], level=3)]['size'])/sum(erg[erg.index.isin([gem_name], level=1)]['size'])\n",
    "    pos=row['geometry']\n",
    "    sizes=[res,1-res]\n",
    "    labels=['{} %'.format(round(res*100)),\"\"]\n",
    "    color_map = ['red', 'green']\n",
    "    #print(gem_name,res,row['name'],pos.centroid.x,  )\n",
    "    if res > 0.2:\n",
    "        axs.pie(sizes,center=(pos.centroid.x,pos.centroid.y),radius=1/240, colors=color_map,labels=labels)\n",
    "        axs.annotate(text=gem_name, xy=(pos.centroid.x,pos.centroid.y-0.005), horizontalalignment='center')\n",
    "\n",
    "\n",
    "#_ = axs.yaxis.set_ticks(range(0, round(y_init[1])+10, 10))\n",
    "#_ = axs.xaxis.set_ticks(range(0, round(x_init[1])+10, 10))  \n",
    "axs.set_ylim(y_init)\n",
    "axs.set_xlim(x_init)\n",
    "plt.savefig('images/'+place_abk+'-gesamt.png')\n",
    "plt.show()\n"
   ]
  },
  {
   "cell_type": "code",
   "execution_count": null,
   "id": "c0f0882d-8ce7-4fcd-bf14-35f6d362e7b6",
   "metadata": {},
   "outputs": [],
   "source": [
    "#import osmnx\n",
    "ox.utils.citation()"
   ]
  },
  {
   "cell_type": "code",
   "execution_count": null,
   "id": "ed2f2ca2-9e05-4272-af6d-0df11079b023",
   "metadata": {},
   "outputs": [],
   "source": [
    "trip_times = [5, 10, 15, 20, 25,30,40,120]  # in minutes\n",
    "cmap = matplotlib.cm.jet\n",
    "norm = matplotlib.colors.BoundaryNorm(trip_times, cmap.N)"
   ]
  },
  {
   "cell_type": "code",
   "execution_count": null,
   "id": "5195855c-e660-456c-b104-266d527f130b",
   "metadata": {},
   "outputs": [],
   "source": [
    "sum(erg[erg.index.isin(['Ehrenkirchen'], level=0) & erg.index.isin([120.0], level=3)]['size'])/sum(erg[erg.index.isin(['Ehrenkirchen'], level=0)]['size'])"
   ]
  },
  {
   "cell_type": "code",
   "execution_count": null,
   "id": "edfc21d1-afb1-4c92-8c00-a08cc2bc13e1",
   "metadata": {},
   "outputs": [],
   "source": [
    "print('{} %'.format(round(9.123)))"
   ]
  },
  {
   "cell_type": "code",
   "execution_count": null,
   "id": "cfa49425-7b24-4184-ac50-d4f8b2c10819",
   "metadata": {},
   "outputs": [],
   "source": [
    "ort_in_bh_gdf"
   ]
  },
  {
   "cell_type": "code",
   "execution_count": null,
   "id": "a07a5925-f3c4-4aea-b3c2-2aa31b278de4",
   "metadata": {},
   "outputs": [],
   "source": []
  }
 ],
 "metadata": {
  "kernelspec": {
   "display_name": "Python 3 (ipykernel)",
   "language": "python",
   "name": "python3"
  },
  "language_info": {
   "codemirror_mode": {
    "name": "ipython",
    "version": 3
   },
   "file_extension": ".py",
   "mimetype": "text/x-python",
   "name": "python",
   "nbconvert_exporter": "python",
   "pygments_lexer": "ipython3",
   "version": "3.12.5"
  }
 },
 "nbformat": 4,
 "nbformat_minor": 5
}
