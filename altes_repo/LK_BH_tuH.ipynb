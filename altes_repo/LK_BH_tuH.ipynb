{
 "cells": [
  {
   "cell_type": "code",
   "execution_count": null,
   "id": "c46f3cad-5b6a-4938-8059-4bef28398ddb",
   "metadata": {},
   "outputs": [],
   "source": [
    "import osmnx as ox\n",
    "# get the building footprints in Macclesfield\n",
    "place = \"Landkreis Breisgau-Hochschwarzwald\"\n",
    "#tags = {'building': 'school'}\n",
    "# Ebene Landkreis\n",
    "tags = {'admin_level': '6'}\n",
    "#gdf = ox.geometries_from_place(place, tags)\n",
    "\n",
    "#tags = {'boundary': 'administrative'}   \n",
    "\n",
    "bh_osmid='R1946367'\n",
    "lk_bh=ox.geocode_to_gdf(bh_osmid, by_osmid=True)\n",
    "lk_bh_poly=lk_bh.geometry[0]"
   ]
  },
  {
   "cell_type": "code",
   "execution_count": null,
   "id": "0bd69716-80bf-4f8b-b856-197dfeadb1b2",
   "metadata": {},
   "outputs": [],
   "source": [
    "lk_bh.plot()"
   ]
  },
  {
   "cell_type": "code",
   "execution_count": null,
   "id": "f743c697-49ab-4967-9930-9b65689be533",
   "metadata": {},
   "outputs": [],
   "source": [
    "# Ebene Gemeinde\n",
    "tags = {'admin_level': '8'}\n",
    "gdf =ox.features.features_from_polygon(lk_bh_poly,tags)"
   ]
  },
  {
   "cell_type": "code",
   "execution_count": null,
   "id": "119a7890-8743-4b35-9ad1-42eb79d46b5d",
   "metadata": {},
   "outputs": [],
   "source": [
    "in_bh=gdf.within(lk_bh_poly)"
   ]
  },
  {
   "cell_type": "code",
   "execution_count": null,
   "id": "af277d13-3f41-4ae8-a39f-e84962827d9a",
   "metadata": {},
   "outputs": [],
   "source": [
    "gem_in_bh_gdf=gdf[in_bh & (gdf['name'].notnull()) & (gdf['type'] == 'boundary') ]  "
   ]
  },
  {
   "cell_type": "code",
   "execution_count": null,
   "id": "b766e1ad-a0eb-45ca-8fef-daa5fb0cdd4a",
   "metadata": {},
   "outputs": [],
   "source": [
    "import json\n",
    "with open('schulen.json') as f:\n",
    "    x = json.load(f)\n",
    "\n",
    "#sc=json.read_file('schulen.json')\n",
    "#x = json.loads(sc)"
   ]
  },
  {
   "cell_type": "code",
   "execution_count": null,
   "id": "230548c6-b944-4c73-a32c-4d3eff4bb8b1",
   "metadata": {},
   "outputs": [],
   "source": [
    "#in_bh_gdf.plot()\n",
    "tags = {'boundary': 'administrative'}\n",
    "gem_bh_gdf =ox.features.features_from_polygon(lk_bh_poly,tags)"
   ]
  },
  {
   "cell_type": "code",
   "execution_count": null,
   "id": "1441e28e-ec9c-422e-b49e-9d16c44b6c5a",
   "metadata": {},
   "outputs": [],
   "source": [
    "in_bh=gem_bh_gdf.within(lk_bh_poly)\n",
    "ort_in_bh_gdf=gem_bh_gdf[in_bh & (gem_bh_gdf['name'].notnull()) & (gem_bh_gdf['type'] == 'boundary') & gem_bh_gdf['de:regionalschluessel'].isnull()] \n"
   ]
  },
  {
   "cell_type": "code",
   "execution_count": null,
   "id": "d09dbfb7-099d-4136-a295-16c4c2579908",
   "metadata": {},
   "outputs": [],
   "source": [
    "ort_in_bh_gdf"
   ]
  },
  {
   "cell_type": "code",
   "execution_count": null,
   "id": "0b6b5bb4-e140-46bb-a953-812a21bef91b",
   "metadata": {},
   "outputs": [],
   "source": [
    "network_type = \"walk\"\n",
    "trip_times = [5, 10, 15, 20, 25,30,40]  # in minutes\n",
    "travel_speed = 3  # walking speed in km/hour\n",
    "tags = {'building': True}   \n",
    "\n",
    "# get one color for each isochrone\n",
    "iso_colors = ox.plot.get_colors(n=len(trip_times), cmap=\"plasma\", start=0)\n",
    "\n",
    "lk_bh_walk=ox.graph_from_polygon(lk_bh_poly,network_type=network_type)\n",
    "lk_bh_build=ox.features_from_polygon(lk_bh_poly,tags)\n",
    "\n",
    "# add an edge attribute for time in minutes required to traverse each edge\n",
    "meters_per_minute = travel_speed * 1000 / 60  # km per hour to m per minute\n",
    "for _, _, _, data in lk_bh_walk.edges(data=True, keys=True):\n",
    "    data[\"time\"] = data[\"length\"] / meters_per_minute"
   ]
  },
  {
   "cell_type": "code",
   "execution_count": null,
   "id": "9839c77c-b5ba-4934-814b-abddcd19efae",
   "metadata": {},
   "outputs": [],
   "source": [
    "lk_bh_walk.size()"
   ]
  },
  {
   "cell_type": "code",
   "execution_count": null,
   "id": "05d666c8-964b-4f69-92cc-97c245576bd6",
   "metadata": {},
   "outputs": [],
   "source": [
    "lk_bh_walk[456383]"
   ]
  },
  {
   "cell_type": "code",
   "execution_count": null,
   "id": "cca0ffb0-3ef8-4e57-907f-b2f5529dcf90",
   "metadata": {},
   "outputs": [],
   "source": [
    "eki_buildings=ox.truncate.truncate_graph_polygon(lk_bh_build,poly)\n",
    "figure, axes = ox.plot_graph(\n",
    "    G,\n",
    "    ax=axe,\n",
    "    node_color=nc,\n",
    "    node_size=ns,\n",
    "    node_alpha=0.8,\n",
    "    edge_linewidth=0.2,\n",
    "    edge_color=\"#999999\",\n",
    "    show=False, \n",
    "    close=False\n",
    ")"
   ]
  },
  {
   "cell_type": "code",
   "execution_count": null,
   "id": "9b71e4b6-4d0d-443e-9363-0de568f51629",
   "metadata": {},
   "outputs": [],
   "source": [
    "import networkx as nx\n",
    "from shapely.geometry import Point\n",
    "\n",
    "br=2\n",
    "anz=25\n",
    "fig, axs = plt.subplots(anz,br,figsize=(30, 120))\n",
    "sw=0\n",
    "\n",
    "#roads=lk_bh_walk\n",
    "for index, row in gem_in_bh_gdf.iterrows():\n",
    "    node_colors = {}\n",
    "    poly_gem = gpd.GeoSeries(row['geometry'])\n",
    "    axs[sw//br,sw%br].set_title(row['name'])\n",
    "\n",
    "    for cur in (x[\"schools\"]):\n",
    "        p=Point(cur[\"lng\"],cur[\"lat\"])\n",
    "        if p.within(poly_gem).any(): \n",
    "            poi=ox.distance.nearest_nodes(roads, cur[\"lng\"],cur[\"lat\"])\n",
    "            for trip_time, color in zip(sorted(trip_times, reverse=True), iso_colors):\n",
    "                subgraph = nx.ego_graph(roads, poi, radius=trip_time, distance=\"time\")\n",
    "                for node in subgraph.nodes():\n",
    "                    col_old=0\n",
    "                    if node in node_colors:\n",
    "                        col_old=sum(node_colors[node])\n",
    "                    if sum(color)>col_old:\n",
    "                        node_colors[node] = color\n",
    "    \n",
    "    for idx_orte, row_orte in ort_in_bh_gdf.iterrows():\n",
    "        poly_ort=row_orte['geometry']\n",
    "        poly_ort = gpd.GeoSeries(row_orte['geometry'])\n",
    "        p_center=poly_ort.centroid\n",
    "        if poly_gem.contains(p_center).any():\n",
    "            poly_ort.plot(ax=axs[sw//br,sw%br],facecolor='none', edgecolor='green')\n",
    "            axs[sw//br,sw%br].annotate(text=row_orte[\"name\"], xy=(p_center[0].x,p_center[0].y), horizontalalignment='center')\n",
    "    lk_bh_build.plot(ax=axs[sw//br,sw%br],color='brown')\n",
    "    nc = [node_colors[node] if node in node_colors else \"none\" for node in roads.nodes()]\n",
    "    ns = [15 if node in node_colors else 0 for node in roads.nodes()]\n",
    "    poly_gem.plot(ax=axs[sw//br,sw%br],facecolor='none', edgecolor='green')\n",
    "    fig, ax = ox.plot_graph(\n",
    "        roads,\n",
    "        ax=axs[sw//br,sw%br],\n",
    "        node_color=nc,\n",
    "        node_size=ns,\n",
    "        node_alpha=0.8,\n",
    "        edge_linewidth=0.2,\n",
    "        edge_color=\"#999999\",\n",
    "        show=False, \n",
    "        close=False\n",
    "    )\n",
    "    \n",
    "    axs[sw//br,sw%br].set_ylim(poly_gem.bounds[\"miny\"][0],poly_gem.bounds[\"maxy\"][0])\n",
    "    axs[sw//br,sw%br].set_xlim(poly_gem.bounds[\"minx\"][0],poly_gem.bounds[\"maxx\"][0])\n",
    "    sw+=1\n",
    "    if sw>3:\n",
    "        break\n",
    "plt.show()"
   ]
  },
  {
   "cell_type": "code",
   "execution_count": null,
   "id": "19bf8b96-7fac-4309-9b56-7196cac76414",
   "metadata": {},
   "outputs": [],
   "source": [
    "import matplotlib.pyplot as plt\n",
    "import geopandas as gpd\n",
    "import numpy as np\n",
    "import shapely\n",
    "from shapely import LineString, MultiPoint, Polygon, Point, MultiPolygon\n",
    "br=2\n",
    "anz=25\n",
    "fig, axs = plt.subplots(anz,br,figsize=(30, 120))\n",
    "sw=0\n",
    "for index, row in gem_in_bh_gdf.iterrows():\n",
    "    roads=lk_bh_walk\n",
    "    if row['name'] == 'Ehrenkirchen':\n",
    "        axs[sw//br,sw%br].set_title(row['name'])\n",
    "        poly = gpd.GeoSeries(row['geometry'])\n",
    "        #for idx_build, row_build in lk_bh_build.iterrows():\n",
    "        #    poly_build=gpd.GeoSeries(row_build['geometry'])\n",
    "        #    if poly.contains(poly_build.centroid).any():\n",
    "        #        poly_build.plot(ax=axs[sw//br,sw%br],color='brown')\n",
    "        #for idx_orte, row_orte in ort_in_bh_gdf.iterrows():\n",
    "        #    poly_ort=row_orte['geometry']\n",
    "        #    poly_ort = gpd.GeoSeries(row_orte['geometry'])\n",
    "        #    p_center=poly_ort.centroid\n",
    "        #    if poly.contains(p_center).any():\n",
    "        #        poly_ort.plot(ax=axs[sw//br,sw%br],color='white', edgecolor='green')\n",
    "        #        axs[sw//br,sw%br].annotate(text=row_orte[\"name\"], xy=(p_center[0].x,p_center[0].y), horizontalalignment='center')\n",
    "        \n",
    "        roads=ox.truncate.truncate_graph_polygon(lk_bh_walk,poly)\n",
    "        fig, ax = ox.plot_graph(\n",
    "            roads,\n",
    "            ax=axs[sw//br,sw%br],\n",
    "            node_color=nc,\n",
    "            node_size=ns,\n",
    "            node_alpha=0.8,\n",
    "            edge_linewidth=0.2,\n",
    "            edge_color=\"#999999\",\n",
    "            show=False, \n",
    "            close=False\n",
    "        )        \n",
    "\n",
    "        \n",
    "        poly.plot(ax=axs[sw//br,sw%br],facecolor='none', edgecolor='black')\n",
    "        \n",
    "        sw+=1\n",
    "plt.show()    "
   ]
  },
  {
   "cell_type": "code",
   "execution_count": null,
   "id": "540fc82a-8ba1-430c-b4a1-bf6fdf32daa2",
   "metadata": {},
   "outputs": [],
   "source": [
    "type(lk_bh_build)"
   ]
  },
  {
   "cell_type": "code",
   "execution_count": null,
   "id": "8fc82948-2184-4fc5-991a-c58ff999173f",
   "metadata": {},
   "outputs": [],
   "source": [
    "type(node_colors)"
   ]
  },
  {
   "cell_type": "code",
   "execution_count": null,
   "id": "e8b80a41-be50-41f3-9bc5-7b8544d1c9e9",
   "metadata": {},
   "outputs": [],
   "source": [
    "dir(p_center)"
   ]
  },
  {
   "cell_type": "code",
   "execution_count": null,
   "id": "6151b75c-97d3-4a1d-abc6-82718f988bc9",
   "metadata": {},
   "outputs": [],
   "source": [
    "p_center[0].x"
   ]
  },
  {
   "cell_type": "code",
   "execution_count": null,
   "id": "681f5ac8-c743-4bc3-88a4-10f394037716",
   "metadata": {},
   "outputs": [],
   "source": [
    "type(roads)"
   ]
  },
  {
   "cell_type": "code",
   "execution_count": null,
   "id": "36dd82f4-c1b1-4441-b6ef-ebc2da40e2a0",
   "metadata": {},
   "outputs": [],
   "source": [
    "#roads=ox.truncate.truncate_graph_bbox(lk_bh_walk,bbox=(poly.bounds[\"minx\"][0],poly.bounds[\"miny\"][0],poly.bounds[\"maxx\"][0],poly.bounds[\"maxy\"][0]),truncate_by_edge=False,retain_all=True)\n",
    "#roads=ox.truncate.truncate_graph_bbox(lk_bh_walk,bbox=(7.4,48,7.8,48.1),truncate_by_edge=False,retain_all=True)\n",
    "roads=ox.truncate.truncate_graph_polygon(lk_bh_walk,poly)\n",
    "node_colors = {}\n",
    "nc = [node_colors[node] if node in node_colors else \"none\" for node in roads.nodes()]\n",
    "ns = [15 if node in node_colors else 0 for node in roads.nodes()]\n",
    "fig, ax = ox.plot_graph(\n",
    "    roads,\n",
    "    node_color=nc,\n",
    "    node_size=ns,\n",
    "    node_alpha=0.8,\n",
    "    edge_linewidth=0.2,\n",
    "    edge_color=\"#999999\",\n",
    "    show=False, \n",
    "    close=False\n",
    ")"
   ]
  },
  {
   "cell_type": "code",
   "execution_count": null,
   "id": "ce626f85-5465-47cf-ba7b-09bd0bb23cf7",
   "metadata": {},
   "outputs": [],
   "source": [
    "(roads.size(),lk_bh_walk.size())"
   ]
  },
  {
   "cell_type": "code",
   "execution_count": null,
   "id": "2554511a-f9a7-401a-af9a-b0545e578405",
   "metadata": {},
   "outputs": [],
   "source": [
    "(poly.bounds[\"minx\"][0],poly.bounds[\"miny\"][0],poly.bounds[\"maxx\"][0],poly.bounds[\"maxy\"][0])"
   ]
  },
  {
   "cell_type": "code",
   "execution_count": null,
   "id": "a43418bb-0a54-4b02-9a87-ac68d9c330fd",
   "metadata": {},
   "outputs": [],
   "source": [
    "build_tr=lk_bh_build.within(poly)"
   ]
  },
  {
   "cell_type": "code",
   "execution_count": null,
   "id": "1de563bc-4c4e-499f-8515-f0844e3489ab",
   "metadata": {},
   "outputs": [],
   "source": [
    "lk_bh_build"
   ]
  },
  {
   "cell_type": "code",
   "execution_count": null,
   "id": "8b18f98a-2948-4a53-abc3-697ddd2f61a8",
   "metadata": {},
   "outputs": [],
   "source": []
  }
 ],
 "metadata": {
  "kernelspec": {
   "display_name": "Python 3 (ipykernel)",
   "language": "python",
   "name": "python3"
  },
  "language_info": {
   "codemirror_mode": {
    "name": "ipython",
    "version": 3
   },
   "file_extension": ".py",
   "mimetype": "text/x-python",
   "name": "python",
   "nbconvert_exporter": "python",
   "pygments_lexer": "ipython3",
   "version": "3.12.5"
  }
 },
 "nbformat": 4,
 "nbformat_minor": 5
}
