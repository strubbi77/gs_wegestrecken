{
 "cells": [
  {
   "cell_type": "code",
   "execution_count": null,
   "id": "4baf86e0-50ad-4d07-8ea9-1556c8b6635b",
   "metadata": {},
   "outputs": [],
   "source": [
    "import json\n",
    "with open('schulen.json') as f:\n",
    "    schulen = json.load(f)"
   ]
  },
  {
   "cell_type": "code",
   "execution_count": null,
   "id": "ed24b60b-00f8-4871-8ac0-28a845a75330",
   "metadata": {},
   "outputs": [],
   "source": [
    "import osmnx as ox\n",
    "# get the building footprints in Macclesfield\n",
    "place = \"Landkreis Breisgau-Hochschwarzwald\"\n",
    "place = \"Stadt Freiburg\"\n",
    "#tags = {'building': 'school'}\n",
    "# Ebene Landkreis\n",
    "tags = {'admin_level': '6'}\n",
    "#gdf = ox.geometries_from_place(place, tags)\n",
    "\n",
    "#tags = {'boundary': 'administrative'}   \n",
    "\n",
    "bh_osmid='R1946367'\n",
    "fr_osmid='R62768'\n",
    "lk_bh=ox.geocode_to_gdf(fr_osmid, by_osmid=True)\n",
    "lk_bh_poly=lk_bh.geometry[0]"
   ]
  },
  {
   "cell_type": "code",
   "execution_count": null,
   "id": "734d0e20-71a4-433d-a392-5a8865c4297e",
   "metadata": {},
   "outputs": [],
   "source": [
    "# Ebene Gemeinde\n",
    "tags = {'admin_level': '8'}\n",
    "gdf =ox.features.features_from_polygon(lk_bh_poly,tags)"
   ]
  },
  {
   "cell_type": "code",
   "execution_count": null,
   "id": "35808443-5aa4-4ac0-92ec-f62eeb993476",
   "metadata": {},
   "outputs": [],
   "source": [
    "in_bh=gdf.within(lk_bh_poly)\n",
    "gem_in_bh_gdf=gdf[in_bh & (gdf['name'].notnull()) & (gdf['type'] == 'boundary') ]  "
   ]
  },
  {
   "cell_type": "code",
   "execution_count": null,
   "id": "47b97e4f-c84a-4488-b849-e5109aef6ac0",
   "metadata": {
    "scrolled": true
   },
   "outputs": [],
   "source": [
    "lk_bh"
   ]
  },
  {
   "cell_type": "code",
   "execution_count": null,
   "id": "51c4f59d-e863-40d7-8b80-3c7cc14ec2b4",
   "metadata": {},
   "outputs": [],
   "source": [
    "eki=gem_in_bh_gdf[gem_in_bh_gdf[\"name\"]=='Ehrenkirchen']"
   ]
  },
  {
   "cell_type": "code",
   "execution_count": null,
   "id": "4efcffee-04d4-4511-b573-fa670512957f",
   "metadata": {},
   "outputs": [],
   "source": [
    "eki.plot()"
   ]
  },
  {
   "cell_type": "code",
   "execution_count": null,
   "id": "c4dc34b5-d6ec-4584-8e5f-e5bcfd01327f",
   "metadata": {},
   "outputs": [],
   "source": [
    "## Findet alle Teilorte\n",
    "#in_bh_gdf.plot()\n",
    "tags = {'boundary': 'administrative'}\n",
    "gem_bh_gdf =ox.features.features_from_polygon(eki_poly,tags)\n",
    "in_bh=gem_bh_gdf.within(eki_poly)\n",
    "ort_in_eki_gdf=gem_bh_gdf[in_bh & (gem_bh_gdf['name'].notnull()) & (gem_bh_gdf['type'] == 'boundary') & gem_bh_gdf['de:regionalschluessel'].isnull()] \n"
   ]
  },
  {
   "cell_type": "code",
   "execution_count": null,
   "id": "bf3d0bfb-9595-46e0-9daa-62033c037cbc",
   "metadata": {},
   "outputs": [],
   "source": [
    "figure, axes = ox.plot_graph(\n",
    "    gdf_eki_walk,\n",
    "    #ax=axe,\n",
    "    #node_color=nc,\n",
    "    #node_size=ns,\n",
    "    node_alpha=0.8,\n",
    "    edge_linewidth=0.2,\n",
    "    edge_color=\"#999999\",\n",
    "    show=False, \n",
    "    close=False\n",
    ")"
   ]
  },
  {
   "cell_type": "code",
   "execution_count": null,
   "id": "1cf9ca41-a14b-4c98-9316-08ca1227dea8",
   "metadata": {},
   "outputs": [],
   "source": [
    "ort_in_eki_gdf"
   ]
  },
  {
   "cell_type": "code",
   "execution_count": null,
   "id": "ca7bf3d1-04a9-46b7-80da-016aa358f3b8",
   "metadata": {},
   "outputs": [],
   "source": [
    "type(gdf_eki_build)"
   ]
  },
  {
   "cell_type": "code",
   "execution_count": null,
   "id": "eea3c526-cfd1-40a9-832c-26855115a745",
   "metadata": {},
   "outputs": [],
   "source": [
    "gem_in_bh_gdf"
   ]
  },
  {
   "cell_type": "code",
   "execution_count": null,
   "id": "fb8ec504-cf4d-4002-844d-869b620a073c",
   "metadata": {},
   "outputs": [],
   "source": [
    "from shapely.geometry import Point\n",
    "import networkx as nx\n",
    "node_colors = {}\n",
    "node_time = {}\n",
    "for cur in (schulen[\"schools\"]):\n",
    "    p=Point(cur[\"lng\"],cur[\"lat\"])\n",
    "    #if p.within(eki_poly).any(): \n",
    "    if p.within(eki_poly): \n",
    "        poi=ox.distance.nearest_nodes(gdf_eki_walk, cur[\"lng\"],cur[\"lat\"])\n",
    "        for trip_time, color in zip(sorted(trip_times, reverse=True), iso_colors):\n",
    "            subgraph = nx.ego_graph(gdf_eki_walk, poi, radius=trip_time, distance=\"time\")\n",
    "            for node in subgraph.nodes():\n",
    "                col_old=0\n",
    "                if node in node_colors:\n",
    "                    col_old=sum(node_colors[node])\n",
    "                if sum(color)>col_old:\n",
    "                    node_colors[node] = color\n",
    "                col_time=10000000\n",
    "                if node in node_time:\n",
    "                    col_time=node_time[node]\n",
    "                if trip_time<col_time:\n",
    "                    node_time[node] = trip_time                    "
   ]
  },
  {
   "cell_type": "code",
   "execution_count": null,
   "id": "2d2d9e81-8214-46b4-b630-637009497937",
   "metadata": {},
   "outputs": [],
   "source": [
    "import pandas as pd\n",
    "import numpy\n",
    "from shapely.geometry import Point\n",
    "import networkx as nx\n",
    "import matplotlib.pyplot as plt\n",
    "import geopandas as gpd\n",
    "\n",
    "network_type = \"walk\"\n",
    "trip_times = [5, 10, 15, 20, 25,30,40]  # in minutes\n",
    "travel_speed = 3  # walking speed in km/hour\n",
    "# get one color for each isochrone\n",
    "iso_colors = ox.plot.get_colors(n=len(trip_times), cmap=\"plasma\", start=0)\n",
    "cmap = matplotlib.cm.cool\n",
    "norm = matplotlib.colors.BoundaryNorm(trip_times, cmap.N)\n",
    "\n",
    "sc=[]\n",
    "for cur in (schulen[\"schools\"]):\n",
    "    p=Point(cur[\"lng\"],cur[\"lat\"])\n",
    "    sc=sc+[[p,cur[\"name\"]]]\n",
    "\n",
    "if len(gem_in_bh_gdf)==0:\n",
    "    gem_in_bh_gdf=lk_bh\n",
    "\n",
    "alle_gem=pd.DataFrame()\n",
    "for index_gem,row_gem in gem_in_bh_gdf.iterrows():\n",
    "    gem_name=row_gem['name']\n",
    "    #if gem_name=='Merdingen':\n",
    "    if 1==1:\n",
    "    \n",
    "        gem_poly=row_gem.geometry\n",
    "    \n",
    "        tags = {'landuse':['residential','farmyard','industrial','commercial']}\n",
    "        gdf_gem_lu =ox.features.features_from_polygon(gem_poly,tags)\n",
    "        #tags = {'building': True}  \n",
    "        #gdf_gem_build=ox.features_from_polygon(gem_poly,tags)\n",
    "        tags = {'addr:housenumber': True}\n",
    "        gdf_gem_hn=ox.features_from_polygon(gem_poly,tags)\n",
    "        gdf_gem_hn['triptime']=120\n",
    "        \n",
    "        gdf_gem_walk=ox.graph_from_polygon(gem_poly,network_type=network_type)\n",
    "        \n",
    "        # add an edge attribute for time in minutes required to traverse each edge\n",
    "        meters_per_minute = travel_speed * 1000 / 60  # km per hour to m per minute\n",
    "        for _, _, _, data in gdf_gem_walk.edges(data=True, keys=True):\n",
    "            data[\"time\"] = data[\"length\"] / meters_per_minute\n",
    "    \n",
    "        tags = {'boundary': 'administrative'}\n",
    "        gem_bh_gdf =ox.features.features_from_polygon(gem_poly,tags)\n",
    "        in_bh=gem_bh_gdf.within(gem_poly)\n",
    "        ort_in_gem_gdf=gem_bh_gdf[in_bh & (gem_bh_gdf['name'].notnull()) & (gem_bh_gdf['type'] == 'boundary') & gem_bh_gdf['de:regionalschluessel'].isnull()] \n",
    "\n",
    "        t=pd.DataFrame({'GemName':[gem_name]})\n",
    "        x=ort_in_gem_gdf['name'].values\n",
    "        if gem_name not in x:\n",
    "            x=numpy.append(x,[[gem_name]])\n",
    "        ort=pd.DataFrame({'OrtName': x})\n",
    "        #ort=pd.DataFrame[{'Name':x[0]}]\n",
    "        y=numpy.unique(gdf_gem_lu['landuse'].values)\n",
    "        y=numpy.append(y,[['unbekannt']])\n",
    "        #y.append('unbekannt')\n",
    "        landuse_df=pd.DataFrame({'Landuse': y})\n",
    "        tt=pd.DataFrame({'WegeDauer':[0]+trip_times+[120]})\n",
    "        \n",
    "        res=pd.merge(ort,landuse_df, how='cross')\n",
    "        res2=pd.merge(t,res, how='cross')\n",
    "        boxen=pd.merge(res2,tt, how='cross')\n",
    "        boxen=boxen.set_index(['GemName','OrtName','Landuse','WegeDauer'])\n",
    "        boxen['Anzahl']=0\n",
    "    \n",
    "        \n",
    "        \n",
    "        node_colors = {}\n",
    "        node_time = {}\n",
    "        hn_colors = {}\n",
    "        for cur in (schulen[\"schools\"]):\n",
    "            p=Point(cur[\"lng\"],cur[\"lat\"])\n",
    "            if p.within(gem_poly): \n",
    "                poi=ox.distance.nearest_nodes(gdf_gem_walk, cur[\"lng\"],cur[\"lat\"])\n",
    "                for trip_time, color in zip(sorted(trip_times, reverse=True), iso_colors):\n",
    "                    subgraph = nx.ego_graph(gdf_gem_walk, poi, radius=trip_time, distance=\"time\")\n",
    "                    for node in subgraph.nodes():\n",
    "                        col_old=0\n",
    "                        if node in node_colors:\n",
    "                            col_old=sum(node_colors[node])\n",
    "                        if sum(color)>col_old:\n",
    "                            node_colors[node] = color\n",
    "                        col_time=10000000\n",
    "                        if node in node_time:\n",
    "                            col_time=node_time[node]\n",
    "                        if trip_time<col_time:\n",
    "                            node_time[node] = trip_time    \n",
    "        for idx_build, row_build in gdf_gem_hn.iterrows():\n",
    "            poly_build=row_build['geometry']\n",
    "            #poly_ort = gpd.GeoSeries(row_orte['geometry'])\n",
    "            p_center=poly_build.centroid\n",
    "            poi=ox.distance.nearest_nodes(gdf_gem_walk, p_center.x,p_center.y)\n",
    "            WegeDauer=120\n",
    "            if poi in node_time:\n",
    "                WegeDauer=node_time[poi]\n",
    "            if poi in node_time:\n",
    "                hn_colors[idx_build[1]]=node_colors[poi]\n",
    "                gdf_gem_hn.loc[idx_build,['triptime']]=node_time[poi]\n",
    "            \n",
    "            Landuse='unbekannt'\n",
    "            for idx_landuse, row_landuse in gdf_gem_lu.iterrows():\n",
    "                lu_type=row_landuse['landuse']\n",
    "                poly_lu= gpd.GeoSeries(row_landuse['geometry'])\n",
    "                if poly_lu.contains(p_center).any():\n",
    "                    Landuse=lu_type\n",
    "            Ortsteil=gem_name\n",
    "            for idx_ort, row_ort in ort_in_gem_gdf.iterrows():\n",
    "                poly_ortt = gpd.GeoSeries(row_ort['geometry'])\n",
    "                if poly_ortt.contains(p_center).any():\n",
    "                    Ortsteil=row_ort['name']    \n",
    "            boxen.at[(gem_name,Ortsteil,Landuse,WegeDauer),'Anzahl']=boxen.at[(gem_name,Ortsteil,Landuse,WegeDauer),'Anzahl']+1\n",
    "    \n",
    "        boxen.to_csv('erstellte_daten/'+gem_name+'.csv',index=True)\n",
    "        if len(alle_gem)<5:\n",
    "            alle_gem=boxen\n",
    "        else:\n",
    "            alle_gem=alle_gem+boxen\n",
    "        alle_gem.to_csv('erstellte_daten/'+place+'.csv',index=True)\n",
    "\n",
    "        br=1\n",
    "        anz=1\n",
    "\n",
    "        gp_b=gem_poly.bounds[2]-gem_poly.bounds[0]\n",
    "        gp_l=gem_poly.bounds[3]-gem_poly.bounds[1]\n",
    "        md=max(gp_b,gp_l)\n",
    "        size=40/md\n",
    "\n",
    "\n",
    "\n",
    "     \n",
    "        fig, axs = plt.subplots(anz,br,figsize=(int(gp_b*size), int(gp_l*size)))\n",
    "        #fig, axs = plt.subplots(anz,br)\n",
    "        axs.set_title(gem_name)\n",
    "        for idx_orte, row_orte in ort_in_gem_gdf.iterrows():\n",
    "            poly_ort = gpd.GeoSeries(row_orte['geometry'])\n",
    "            p_center=poly_ort.centroid\n",
    "            if gem_poly.contains(p_center).any():\n",
    "                poly_ort.plot(ax=axs,facecolor='none', edgecolor='green')\n",
    "                axs.annotate(text=row_orte[\"name\"], xy=(p_center[0].x,p_center[0].y), horizontalalignment='center')\n",
    "        if len(ort_in_gem_gdf)==0:\n",
    "            gem_poly_gpd = gpd.GeoSeries(gem_poly)\n",
    "            gem_poly_gpd.plot(ax=axs,facecolor='none', edgecolor='blue')    \n",
    "        gdf_gem_hn.plot(ax=axs,column='triptime',markersize =5, cmap=cmap,norm=norm)\n",
    "        #nc = [node_colors[node] if node in node_colors else \"none\" for node in gdf_gem_walk.nodes()]\n",
    "        #ns = [5 if node in node_colors else 0 for node in gdf_gem_walk.nodes()]\n",
    "        #poly_ort.plot(ax=axs,facecolor='none', edgecolor='green')\n",
    "        fig, ax = ox.plot_graph(\n",
    "            gdf_gem_walk,\n",
    "            ax=axs,\n",
    "            #node_color=nc,\n",
    "            #node_size=ns,\n",
    "            node_alpha=0.8,\n",
    "            edge_linewidth=0.2,\n",
    "            edge_color=\"#999999\",\n",
    "            show=False, \n",
    "            close=False\n",
    "        )\n",
    "        for cur in sc:\n",
    "            axs.scatter(cur[0].x,cur[0].y,color='red',s=80)    \n",
    "            axs.annotate(text=cur[1], xy=(cur[0].x,cur[0].y), horizontalalignment='center')\n",
    "            #axs[sw//br,sw%br].set_ylim(poly_gem.bounds[\"miny\"][0],poly_gem.bounds[\"maxy\"][0])\n",
    "            #axs[sw//br,sw%br].set_xlim(poly_gem.bounds[\"minx\"][0],poly_gem.bounds[\"maxx\"][0])\n",
    "        plt.savefig('images/'+gem_name+'.png')\n",
    "        #plt.show()\n",
    "\n"
   ]
  },
  {
   "cell_type": "code",
   "execution_count": null,
   "id": "36bdecfc-a890-4414-9135-c69a364a5389",
   "metadata": {},
   "outputs": [],
   "source": [
    "poly_gem_gpd.plot()"
   ]
  },
  {
   "cell_type": "code",
   "execution_count": null,
   "id": "891d5777-d687-4fe4-8b83-7f6a6046bf4f",
   "metadata": {},
   "outputs": [],
   "source": [
    "import networkx as nx\n",
    "from shapely.geometry import Point\n",
    "import matplotlib.pyplot as plt\n",
    "\n",
    "trip_times = [5, 10, 15, 20, 25,30,40]\n",
    "cmap = matplotlib.cm.cool\n",
    "norm = matplotlib.colors.BoundaryNorm(trip_times, cmap.N)\n",
    "\n",
    "\n",
    "\n",
    "br=1\n",
    "anz=1\n",
    "fig, axs = plt.subplots(anz,br,figsize=(30, 120))\n",
    "sw=0\n",
    "poly_gem = gem_poly\n",
    "axs.set_title(gem_name)\n",
    "for idx_orte, row_orte in ort_in_gem_gdf.iterrows():\n",
    "    poly_ort = gpd.GeoSeries(row_orte['geometry'])\n",
    "    p_center=poly_ort.centroid\n",
    "    if poly_gem.contains(p_center).any():\n",
    "        poly_ort.plot(ax=axs,facecolor='none', edgecolor='green')\n",
    "        axs.annotate(text=row_orte[\"name\"], xy=(p_center[0].x,p_center[0].y), horizontalalignment='center')\n",
    "    gdf_gem_hn.plot(ax=axs,column='triptime',markersize =5, cmap=cmap,norm=norm)\n",
    "    nc = [node_colors[node] if node in node_colors else \"none\" for node in gdf_gem_walk.nodes()]\n",
    "    ns = [5 if node in node_colors else 0 for node in gdf_gem_walk.nodes()]\n",
    "    poly_ort.plot(ax=axs,facecolor='none', edgecolor='green')\n",
    "    fig, ax = ox.plot_graph(\n",
    "        gdf_gem_walk,\n",
    "        ax=axs,\n",
    "        #node_color=nc,\n",
    "        #node_size=ns,\n",
    "        node_alpha=0.8,\n",
    "        edge_linewidth=0.2,\n",
    "        edge_color=\"#999999\",\n",
    "        show=False, \n",
    "        close=False\n",
    "    )\n",
    "    for cur in sc:\n",
    "        axs.scatter(cur.x,cur.y,color='red',s=80)\n",
    "    #axs[sw//br,sw%br].set_ylim(poly_gem.bounds[\"miny\"][0],poly_gem.bounds[\"maxy\"][0])\n",
    "    #axs[sw//br,sw%br].set_xlim(poly_gem.bounds[\"minx\"][0],poly_gem.bounds[\"maxx\"][0])\n",
    "#plt.savefig('images/'+gem_name+'.png')\n",
    "plt.show()"
   ]
  },
  {
   "cell_type": "code",
   "execution_count": null,
   "id": "c08e7215-bea3-4470-bcf3-2e8b006c125e",
   "metadata": {},
   "outputs": [],
   "source": [
    "#hn_colors_series = pd.DataFrame.from_dict(hn_colors,orient='index')\n",
    "#hn_colors_series\n",
    "\n",
    "colors = map(lambda x: hn_colors.get(x, (0.5,0.5,0.5,1)), gdf_gem_hn.index.get_level_values(1))"
   ]
  },
  {
   "cell_type": "code",
   "execution_count": null,
   "id": "4f3445b3-1fc6-4d52-9fb0-3b139473c612",
   "metadata": {},
   "outputs": [],
   "source": [
    "#hn_colors\n",
    "for cur in gdf_gem_hn.index:\n",
    "    osmid =cur[1] \n",
    "    #print (cur[1])\n",
    "    if osmid in hn_colors:\n",
    "        print(hn_colors[osmid])"
   ]
  },
  {
   "cell_type": "code",
   "execution_count": null,
   "id": "37e083c7-265a-486d-bf2b-bd079d30c91d",
   "metadata": {},
   "outputs": [],
   "source": [
    "idx_build.index"
   ]
  },
  {
   "cell_type": "code",
   "execution_count": null,
   "id": "6d907337-be14-4f2a-bb9d-3bdfb30f9929",
   "metadata": {},
   "outputs": [],
   "source": [
    "hc = [hn_colors[node] if node in hn_colors else \"none\" for node in hn_colors.nodes()]\n"
   ]
  },
  {
   "cell_type": "code",
   "execution_count": null,
   "id": "f55c69cd-bd22-47a1-87d6-e8d2f2c87f96",
   "metadata": {},
   "outputs": [],
   "source": [
    "gdf_gem_hn.loc[idx_build,['triptime']]=15"
   ]
  },
  {
   "cell_type": "code",
   "execution_count": null,
   "id": "afb8d2a7-1391-4a55-9d1f-d0779c816c1b",
   "metadata": {},
   "outputs": [],
   "source": [
    "gdf_gem_hn.loc[idx_build,['triptime']]=node_time[poi]"
   ]
  },
  {
   "cell_type": "code",
   "execution_count": null,
   "id": "977aa43c-7eec-47bc-8616-e4d8f7481114",
   "metadata": {},
   "outputs": [],
   "source": [
    "gdf_gem_hn['tripkat']"
   ]
  },
  {
   "cell_type": "code",
   "execution_count": null,
   "id": "950378fa-006e-48d0-8051-7eb90c6d3d8f",
   "metadata": {},
   "outputs": [],
   "source": [
    "        gp_b=gem_poly.bounds[2]-gem_poly.bounds[0]\n",
    "        gp_l=gem_poly.bounds[3]-gem_poly.bounds[1]\n",
    "        md=max(gp_b,gp_l)\n",
    "        size=40/md\n",
    "int(gp_b*size)\n",
    "int(gp_l*size)"
   ]
  },
  {
   "cell_type": "code",
   "execution_count": null,
   "id": "3ba19e81-2663-4665-86b8-7a59da8449af",
   "metadata": {},
   "outputs": [],
   "source": [
    "sc=[]\n",
    "for cur in (schulen[\"schools\"]):\n",
    "    p=Point(cur[\"lng\"],cur[\"lat\"])\n",
    "    #if p.within(eki_poly).any(): \n",
    "    if p.within(gem_poly): \n",
    "        p=Point(cur[\"lng\"],cur[\"lat\"])\n",
    "        sc=sc+[[p,cur[\"name\"]]]\n",
    "sc        "
   ]
  },
  {
   "cell_type": "code",
   "execution_count": null,
   "id": "57b741a7-eac9-4ced-97a0-2a5bf1d60532",
   "metadata": {},
   "outputs": [],
   "source": [
    "for cur in sc:\n",
    "    print(cur[0].x,cur[1])"
   ]
  },
  {
   "cell_type": "code",
   "execution_count": null,
   "id": "131ad4f0-d0be-495a-b443-aaf38ffbcad1",
   "metadata": {},
   "outputs": [],
   "source": [
    "import matplotlib\n",
    "matplotlib.colors.rgb_to_hsv([0.050383, 0.029803, 0.527975])"
   ]
  },
  {
   "cell_type": "code",
   "execution_count": null,
   "id": "09347327-bd0e-4eb3-a052-185321e485d7",
   "metadata": {},
   "outputs": [],
   "source": [
    "max((gem_poly.bounds[2]-gem_poly.bounds[0]),(gem_poly.bounds[3]-gem_poly.bounds[1]))"
   ]
  },
  {
   "cell_type": "code",
   "execution_count": null,
   "id": "3dcf5642-8cdb-4f6f-9a47-40f0662cebf7",
   "metadata": {},
   "outputs": [],
   "source": []
  }
 ],
 "metadata": {
  "kernelspec": {
   "display_name": "Python 3 (ipykernel)",
   "language": "python",
   "name": "python3"
  },
  "language_info": {
   "codemirror_mode": {
    "name": "ipython",
    "version": 3
   },
   "file_extension": ".py",
   "mimetype": "text/x-python",
   "name": "python",
   "nbconvert_exporter": "python",
   "pygments_lexer": "ipython3",
   "version": "3.12.5"
  }
 },
 "nbformat": 4,
 "nbformat_minor": 5
}
