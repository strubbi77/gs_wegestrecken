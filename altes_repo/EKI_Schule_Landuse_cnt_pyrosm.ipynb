{
 "cells": [
  {
   "cell_type": "code",
   "execution_count": null,
   "id": "4baf86e0-50ad-4d07-8ea9-1556c8b6635b",
   "metadata": {},
   "outputs": [],
   "source": [
    "import json\n",
    "with open('schulen.json') as f:\n",
    "    schulen = json.load(f)"
   ]
  },
  {
   "cell_type": "code",
   "execution_count": null,
   "id": "ed24b60b-00f8-4871-8ac0-28a845a75330",
   "metadata": {
    "scrolled": true
   },
   "outputs": [],
   "source": [
    "# Read landuse\n",
    "# ============\n",
    "from pyrosm import OSM\n",
    "from pyrosm import get_data\n",
    "fp = get_data(\"freiburg_regbez\",directory='pbf/')\n",
    "# Initialize the OSM parser object\n",
    "osm = OSM(fp)\n",
    "bh_bound=osm.get_boundaries(name='Landkreis Breisgau-Hochschwarzwald')\n",
    "#tags = {'boundary': 'administrative'}   \n",
    "lk_bh=bh_bound\n",
    "lk_bh_poly=bh_bound.geometry[0]\n",
    "lk_bh.plot(facecolor=\"none\", edgecolor=\"blue\")"
   ]
  },
  {
   "cell_type": "code",
   "execution_count": null,
   "id": "1b0328bc-785f-4a8f-8141-9a28278fdd50",
   "metadata": {},
   "outputs": [],
   "source": [
    "lk_bh.to_file('shp/lk_bh.geojson', driver='GeoJSON')"
   ]
  },
  {
   "cell_type": "code",
   "execution_count": null,
   "id": "f978c95f-00f6-4be4-8a25-8cc499d36b52",
   "metadata": {},
   "outputs": [],
   "source": [
    "import geopandas\n",
    "lk_bh_ff=geopandas.read_file('shp/lk_bh.geojson')\n",
    "lk_bh_poly=lk_bh_ff.geometry[0]\n",
    "lk_bh_poly=bh_bound.geometry[0]\n"
   ]
  },
  {
   "cell_type": "code",
   "execution_count": null,
   "id": "7254c556-4bb3-4a60-b299-d99eea5842d3",
   "metadata": {},
   "outputs": [],
   "source": [
    "bh_bound.plot()"
   ]
  },
  {
   "cell_type": "code",
   "execution_count": null,
   "id": "734d0e20-71a4-433d-a392-5a8865c4297e",
   "metadata": {},
   "outputs": [],
   "source": [
    "import pyrosm\n",
    "# Ebene Gemeinde\n",
    "gem_in_bh_gdf_osm=pyrosm.OSM(filepath=\"pbf/lk_bh.pbf\",bounding_box=lk_bh_poly)\n",
    "gem_in_bh_gdf_of=gem_in_bh_gdf_osm.get_boundaries(custom_filter={'admin_level': ['8']})\n",
    "#Filter notwendig, da einige Grenzen außerhalb enthalten waren\n",
    "in_bh=gem_in_bh_gdf_of.within(lk_bh_poly)"
   ]
  },
  {
   "cell_type": "code",
   "execution_count": null,
   "id": "29190482-ea9e-4e84-a82a-34cd946b601c",
   "metadata": {},
   "outputs": [],
   "source": [
    "in_bh=gem_in_bh_gdf_of.within(lk_bh_poly)"
   ]
  },
  {
   "cell_type": "code",
   "execution_count": null,
   "id": "35808443-5aa4-4ac0-92ec-f62eeb993476",
   "metadata": {},
   "outputs": [],
   "source": [
    "gem_in_bh_gdf=gem_in_bh_gdf_of[ in_bh &  (gem_in_bh_gdf_of['admin_level']=='8') ]  "
   ]
  },
  {
   "cell_type": "code",
   "execution_count": null,
   "id": "47b97e4f-c84a-4488-b849-e5109aef6ac0",
   "metadata": {
    "scrolled": true
   },
   "outputs": [],
   "source": [
    "gem_in_bh_gdf.plot(facecolor=\"none\",edgecolor=\"blue\")"
   ]
  },
  {
   "cell_type": "code",
   "execution_count": null,
   "id": "51c4f59d-e863-40d7-8b80-3c7cc14ec2b4",
   "metadata": {},
   "outputs": [],
   "source": [
    "len(gem_in_bh_gdf)"
   ]
  },
  {
   "cell_type": "code",
   "execution_count": null,
   "id": "5d365af0-2bd9-4c6c-8b63-9c2bba4012cc",
   "metadata": {},
   "outputs": [],
   "source": [
    "eki_poly=eki.geometry[0]\n",
    "\n",
    "network_type = \"walk\"\n",
    "trip_times = [5, 10, 15, 20, 25,30,40]  # in minutes\n",
    "travel_speed = 3  # walking speed in km/hour\n",
    "# get one color for each isochrone\n",
    "iso_colors = ox.plot.get_colors(n=len(trip_times), cmap=\"plasma\", start=0)\n",
    "\n",
    "\n",
    "tags = {'landuse':['residential','farmyard','industrial','commercial']}\n",
    "gdf_eki_lu =ox.features.features_from_polygon(eki_poly,tags)\n",
    "tags = {'building': True}  \n",
    "gdf_eki_build=ox.features_from_polygon(eki_poly,tags)\n",
    "tags = {'addr:housenumber': True}\n",
    "gdf_eki_hn=ox.features_from_polygon(eki_poly,tags)\n",
    "\n",
    "gdf_eki_walk=ox.graph_from_polygon(eki_poly,network_type=network_type)\n",
    "\n",
    "# add an edge attribute for time in minutes required to traverse each edge\n",
    "meters_per_minute = travel_speed * 1000 / 60  # km per hour to m per minute\n",
    "for _, _, _, data in gdf_eki_walk.edges(data=True, keys=True):\n",
    "    data[\"time\"] = data[\"length\"] / meters_per_minute\n",
    "    data[\"neu\"]=124\n",
    "\n"
   ]
  },
  {
   "cell_type": "code",
   "execution_count": null,
   "id": "c4dc34b5-d6ec-4584-8e5f-e5bcfd01327f",
   "metadata": {},
   "outputs": [],
   "source": [
    "## Findet alle Teilorte\n",
    "#in_bh=gem_bh_gdf.within(eki_poly)\n",
    "ort_in_bh_gdf=gem_in_bh_gdf_of[ in_bh & (gem_in_bh_gdf_of['boundary']=='administrative') &  ((gem_in_bh_gdf_of['admin_level']=='9')|(gem_in_bh_gdf_of['admin_level']=='10') ) ]  \n",
    "len(ort_in_bh_gdf)"
   ]
  },
  {
   "cell_type": "code",
   "execution_count": null,
   "id": "8683f8cf-b543-43b0-9f6d-a89cdd7ca24b",
   "metadata": {
    "scrolled": true
   },
   "outputs": [],
   "source": [
    "ort_in_bh_gdf_osm=pyrosm.OSM(filepath=\"pbf/freiburg-regbez-latest.osm.pbf\",bounding_box=ort1['geometry'].values[0])\n",
    "\n",
    "drive_net = ort_in_bh_gdf_osm.get_network(network_type=\"walking\")\n",
    "drive_net.plot()"
   ]
  },
  {
   "cell_type": "code",
   "execution_count": null,
   "id": "1cf9ca41-a14b-4c98-9316-08ca1227dea8",
   "metadata": {},
   "outputs": [],
   "source": [
    "ort_in_eki_gdf"
   ]
  },
  {
   "cell_type": "code",
   "execution_count": null,
   "id": "ca7bf3d1-04a9-46b7-80da-016aa358f3b8",
   "metadata": {},
   "outputs": [],
   "source": [
    "type(gdf_eki_build)"
   ]
  },
  {
   "cell_type": "code",
   "execution_count": null,
   "id": "eea3c526-cfd1-40a9-832c-26855115a745",
   "metadata": {},
   "outputs": [],
   "source": [
    "gdf_eki_build.groupby('element_type').count()"
   ]
  },
  {
   "cell_type": "code",
   "execution_count": null,
   "id": "cc64a8e0-ca06-4278-a0e3-51283d6999f4",
   "metadata": {
    "scrolled": true
   },
   "outputs": [],
   "source": [
    "gdf_eki_lu"
   ]
  },
  {
   "cell_type": "code",
   "execution_count": null,
   "id": "fb8ec504-cf4d-4002-844d-869b620a073c",
   "metadata": {},
   "outputs": [],
   "source": [
    "from shapely.geometry import Point\n",
    "import networkx as nx\n",
    "node_colors = {}\n",
    "node_time = {}\n",
    "for cur in (schulen[\"schools\"]):\n",
    "    p=Point(cur[\"lng\"],cur[\"lat\"])\n",
    "    #if p.within(eki_poly).any(): \n",
    "    if p.within(eki_poly): \n",
    "        poi=ox.distance.nearest_nodes(gdf_eki_walk, cur[\"lng\"],cur[\"lat\"])\n",
    "        for trip_time, color in zip(sorted(trip_times, reverse=True), iso_colors):\n",
    "            subgraph = nx.ego_graph(gdf_eki_walk, poi, radius=trip_time, distance=\"time\")\n",
    "            for node in subgraph.nodes():\n",
    "                col_old=0\n",
    "                if node in node_colors:\n",
    "                    col_old=sum(node_colors[node])\n",
    "                if sum(color)>col_old:\n",
    "                    node_colors[node] = color\n",
    "                col_time=10000000\n",
    "                if node in node_time:\n",
    "                    col_time=node_time[node]\n",
    "                if trip_time<col_time:\n",
    "                    node_time[node] = trip_time                    "
   ]
  },
  {
   "cell_type": "code",
   "execution_count": null,
   "id": "50644a42-c01d-429d-a8f4-ac3a04b39179",
   "metadata": {},
   "outputs": [],
   "source": [
    "import itertools\n",
    "#dir(ort_in_eki_gdf['name'])\n",
    "x=ort_in_eki_gdf['name'].values\n",
    "ort=pd.DataFrame({'Name': x})\n",
    "#ort=pd.DataFrame[{'Name':x[0]}]\n",
    "dir(gdf_eki_lu['landuse'].values)\n",
    "y=numpy.unique(gdf_eki_lu['landuse'].values)\n",
    "y=numpy.append(y,[['unbekannt']])\n",
    "#y.append('unbekannt')\n",
    "landuse_df=pd.DataFrame({'Landuse': y})\n",
    "tt=pd.DataFrame({'WegeDauer':[0]+trip_times+[120]})\n",
    "\n",
    "res=pd.merge(ort,landuse_df, how='cross')\n",
    "boxen=pd.merge(res,tt, how='cross')\n",
    "boxen=boxen.set_index(['Name','Landuse','WegeDauer'])\n",
    "boxen['Anzahl']=0"
   ]
  },
  {
   "cell_type": "code",
   "execution_count": null,
   "id": "31532f35-27d1-45f6-b101-10436d1afeca",
   "metadata": {},
   "outputs": [],
   "source": [
    "for index_gem,row_gem in gem_in_bh_gdf.iterrows():\n",
    "    gem_name=row_gem['name']\n",
    "    if gem_name=='Merdingen':\n",
    "        gem_poly=row_gem['geometry']\n",
    "\n",
    "        \n",
    "        gem_osm=pyrosm.OSM(filepath=\"pbf/freiburg-regbez-latest.osm.pbf\",bounding_box=gem_poly)"
   ]
  },
  {
   "cell_type": "code",
   "execution_count": null,
   "id": "4c13ddb7-9c3d-4131-883c-552882bf8331",
   "metadata": {},
   "outputs": [],
   "source": [
    "#import datetime\n",
    "#import osmnx as ox\n",
    "#gem_walk_net_nodes, gem_walk_net_edges = gem_osm.get_network(network_type=\"walking\",nodes=True)\n",
    "\n",
    "\n",
    "#tags_lu={'landuse':['residential','farmyard','industrial','commercial']}\n",
    "#gem_gdf_lu=gem_osm.get_landuse(custom_filter=tags_lu)\n",
    "#gem_gdf_lu.plot(column='landuse', legend=True, figsize=(10,6))\n",
    "\n",
    "#tags = {'addr:housenumber': True}\n",
    "\n",
    "#gem_gdf_hn=gem_osm.get_data_by_custom_criteria(custom_filter=tags)\n",
    "\n",
    "#gem_gdf_hn.plot()\n",
    "\n",
    "#gem_walk_net_nodes, gem_walk_net_edges = gem_osm.get_network(network_type=\"walking\",nodes=True)\n",
    "#gem_walk_net = osm.to_graph(gem_walk_net_nodes, gem_walk_net_edges, graph_type=\"networkx\")\n",
    "#meters_per_minute = travel_speed * 1000 / 60  # km per hour to m per minute\n",
    "#for _, _, _, data in gem_walk_net.edges(data=True, keys=True):\n",
    "#    data[\"time\"] = data[\"length\"] / meters_per_minute\n",
    "\n",
    "#G = osm.to_graph(gem_walk_net_nodes, gem_walk_net_edges, graph_type=\"networkx\")\n",
    "#ox.plot_graph(gem_walk_net)\n",
    "#poi=ox.distance.nearest_nodes(gem_walk_net, cur[\"lng\"],cur[\"lat\"])\n",
    "gdf_gem_hn=[]"
   ]
  },
  {
   "cell_type": "code",
   "execution_count": null,
   "id": "2d2d9e81-8214-46b4-b630-637009497937",
   "metadata": {
    "scrolled": true
   },
   "outputs": [],
   "source": [
    "######\n",
    "#\n",
    "#  Dies ist die Hauptprozedur. \n",
    "#  Hier wird über alle Orte iteriert und dabei jeweils zuerst das osm für ein Bereich eingestellt und danach\n",
    "#  die Wege, Gebäude und Schulen eingetragen und ausgewertet.\n",
    "#\n",
    "######\n",
    "import pandas as pd\n",
    "import numpy\n",
    "from shapely.geometry import Point\n",
    "import networkx as nx\n",
    "import matplotlib.pyplot as plt\n",
    "import geopandas as gpd\n",
    "import matplotlib\n",
    "import osmnx as ox\n",
    "import datetime\n",
    "\n",
    "network_type = \"walk\"\n",
    "trip_times = [5, 10, 15, 20, 25,30,40]  # in minutes\n",
    "travel_speed = 3  # walking speed in km/hour\n",
    "# get one color for each isochrone\n",
    "iso_colors = ox.plot.get_colors(n=len(trip_times), cmap=\"plasma\", start=0)\n",
    "cmap = matplotlib.cm.cool\n",
    "norm = matplotlib.colors.BoundaryNorm(trip_times, cmap.N)\n",
    "place='lk_bh'\n",
    "\n",
    "sc=[]\n",
    "for cur in (schulen[\"schools\"]):\n",
    "    p=Point(cur[\"lng\"],cur[\"lat\"])\n",
    "    sc=sc+[[p,cur[\"name\"]]]\n",
    "\n",
    "alle_gem=pd.DataFrame()\n",
    "for index_gem,row_gem in gem_in_bh_gdf.iterrows():\n",
    "    gem_name=row_gem['name']\n",
    "    if gem_name=='Bollschweil':\n",
    "    #if 1==1:\n",
    "\n",
    "        print('Line 0036: {} - {}'.format(datetime.datetime.now(),gem_name))\n",
    "        #gem_poly=row_gem['geometry'].values[0]\n",
    "        # Initialisierung des Gebiets\n",
    "        gem_poly=row_gem['geometry']\n",
    "        #gem_osm=pyrosm.OSM(filepath=\"pbf/freiburg-regbez-latest.osm.pbf\",bounding_box=gem_poly)\n",
    "        gem_osm=pyrosm.OSM(filepath=\"pbf/lk_bh_poly.pbf\",bounding_box=gem_poly)\n",
    "        print('Line 0041: {} - {}'.format(datetime.datetime.now(),gem_name))\n",
    "        # Wegenetz\n",
    "        gem_walk_net_nodes, gem_walk_net_edges = gem_osm.get_network(network_type=\"walking\",nodes=True)\n",
    "        gem_walk_net = osm.to_graph(gem_walk_net_nodes, gem_walk_net_edges, graph_type=\"networkx\")\n",
    "        meters_per_minute = travel_speed * 1000 / 60  # km per hour to m per minute\n",
    "        for _, _, _, data in gem_walk_net.edges(data=True, keys=True):\n",
    "            data[\"time\"] = data[\"length\"] / meters_per_minute\n",
    "\n",
    "        print('Line 0049: {} - {}'.format(datetime.datetime.now(),gem_name))\n",
    "        \n",
    "        # Landuse\n",
    "        tags_lu={'landuse':['residential','farmyard','industrial','commercial']}\n",
    "        gem_gdf_lu=gem_osm.get_landuse(custom_filter=tags_lu)\n",
    "\n",
    "        #tags = {'building': True}  \n",
    "        #gdf_gem_build=ox.features_from_polygon(gem_poly,tags)\n",
    "        tags = {'addr:housenumber': True}\n",
    "        \n",
    "        gdf_gem_hn=gem_osm.get_data_by_custom_criteria(custom_filter=tags)\n",
    "        \n",
    "        gdf_gem_hn['triptime']=120\n",
    "        \n",
    "\n",
    "        in_gem=gem_poly\n",
    "        ort_in_bh_gdf=gem_in_bh_gdf_of[ in_bh & (gem_in_bh_gdf_of['boundary']=='administrative') &  ((gem_in_bh_gdf_of['admin_level']=='9')|(gem_in_bh_gdf_of['admin_level']=='10') ) ]  \n",
    "        \n",
    "        # Ortsteile: \n",
    "        in_gem=gem_in_bh_gdf_of.within(gem_poly)\n",
    "        ort_in_gem_gdf=gem_in_bh_gdf_of[ in_gem & (gem_in_bh_gdf_of['boundary']=='administrative') &  ((gem_in_bh_gdf_of['admin_level']=='9')|(gem_in_bh_gdf_of['admin_level']=='10') ) ]  \n",
    "\n",
    "        # Aufbau Listen:     \n",
    "        t=pd.DataFrame({'GemName':[gem_name]})\n",
    "        x=ort_in_gem_gdf['name'].values\n",
    "        if gem_name not in x:\n",
    "            x=numpy.append(x,[[gem_name]])\n",
    "        ort=pd.DataFrame({'OrtName': x})\n",
    "        #ort=pd.DataFrame[{'Name':x[0]}]\n",
    "        y=numpy.unique(gem_gdf_lu['landuse'].values)\n",
    "        y=numpy.append(y,[['unbekannt']])\n",
    "        #y.append('unbekannt')\n",
    "        landuse_df=pd.DataFrame({'Landuse': y})\n",
    "        tt=pd.DataFrame({'WegeDauer':[0]+trip_times+[120]})\n",
    "        \n",
    "        res=pd.merge(ort,landuse_df, how='cross')\n",
    "        res2=pd.merge(t,res, how='cross')\n",
    "        boxen=pd.merge(res2,tt, how='cross')\n",
    "        boxen=boxen.set_index(['GemName','OrtName','Landuse','WegeDauer'])\n",
    "        boxen['Anzahl']=0\n",
    "            \n",
    "        print('Line 0088: {} - {}'.format(datetime.datetime.now(),gem_name))\n",
    "        \n",
    "        node_colors = {}\n",
    "        node_time = {}\n",
    "        for cur in (schulen[\"schools\"]):\n",
    "            p=Point(cur[\"lng\"],cur[\"lat\"])\n",
    "            if p.within(gem_poly): \n",
    "                poi=ox.distance.nearest_nodes(gem_walk_net, cur[\"lng\"],cur[\"lat\"])\n",
    "                for trip_time, color in zip(sorted(trip_times, reverse=True), iso_colors):\n",
    "                    subgraph = nx.ego_graph(gem_walk_net, poi, radius=trip_time, distance=\"time\")\n",
    "                    for node in subgraph.nodes():\n",
    "                        col_old=0\n",
    "                        if node in node_colors:\n",
    "                            col_old=sum(node_colors[node])\n",
    "                        if sum(color)>col_old:\n",
    "                            node_colors[node] = color\n",
    "                        col_time=10000000\n",
    "                        if node in node_time:\n",
    "                            col_time=node_time[node]\n",
    "                        if trip_time<col_time:\n",
    "                            node_time[node] = trip_time    \n",
    "        print('Line 0113: {} - {}'.format(datetime.datetime.now(),gem_name))\n",
    "\n",
    "        for idx_build, row_build in gdf_gem_hn.iterrows():\n",
    "            poly_build=row_build['geometry']\n",
    "            #poly_ort = gpd.GeoSeries(row_orte['geometry'])\n",
    "            p_center=poly_build.centroid\n",
    "            poi=ox.distance.nearest_nodes(gem_walk_net, p_center.x,p_center.y)\n",
    "            WegeDauer=120\n",
    "            if poi in node_time:\n",
    "                WegeDauer=node_time[poi]\n",
    "            if poi in node_time:\n",
    "                gdf_gem_hn.loc[idx_build,['triptime']]=node_time[poi]\n",
    "            \n",
    "            Landuse='unbekannt'\n",
    "            for idx_landuse, row_landuse in gem_gdf_lu.iterrows():\n",
    "                lu_type=row_landuse['landuse']\n",
    "                poly_lu= gpd.GeoSeries(row_landuse['geometry'])\n",
    "                if poly_lu.contains(p_center).any():\n",
    "                    Landuse=lu_type\n",
    "                    break\n",
    "            Ortsteil=gem_name\n",
    "            for idx_ort, row_ort in ort_in_gem_gdf.iterrows():\n",
    "                poly_ortt = gpd.GeoSeries(row_ort['geometry'])\n",
    "                if poly_ortt.contains(p_center).any():\n",
    "                    Ortsteil=row_ort['name']\n",
    "                    break\n",
    "            boxen.at[(gem_name,Ortsteil,Landuse,WegeDauer),'Anzahl']=boxen.at[(gem_name,Ortsteil,Landuse,WegeDauer),'Anzahl']+1\n",
    "        print('Line 0139: {} - {}'.format(datetime.datetime.now(),gem_name))\n",
    "    \n",
    "        boxen.to_csv('erstellte_daten/'+gem_name+'.csv',index=True)\n",
    "        if len(alle_gem)<5:\n",
    "            alle_gem=boxen\n",
    "        else:\n",
    "            alle_gem=alle_gem+boxen\n",
    "        alle_gem.to_csv('erstellte_daten/'+place+'.csv',index=True)\n",
    "\n",
    "        br=1\n",
    "        anz=1\n",
    "\n",
    "        gp_b=gem_poly.bounds[2]-gem_poly.bounds[0]\n",
    "        gp_l=gem_poly.bounds[3]-gem_poly.bounds[1]\n",
    "        md=max(gp_b,gp_l)\n",
    "        size=60/md\n",
    "\n",
    "\n",
    "        print('Line 0151: {} - {}'.format(datetime.datetime.now(),gem_name))\n",
    "     \n",
    "        fig, axs = plt.subplots(anz,br,figsize=(int(gp_b*size), int(gp_l*size)))\n",
    "        #fig, axs = plt.subplots(anz,br)\n",
    "        axs.set_title(gem_name)\n",
    "        gem_gdf_lu.plot(ax=axs,column='landuse', facecolor='none',legend=True)\n",
    "        for idx_orte, row_orte in ort_in_gem_gdf.iterrows():\n",
    "            poly_ort = gpd.GeoSeries(row_orte['geometry'])\n",
    "            p_center=poly_ort.centroid\n",
    "            if gem_poly.contains(p_center).any():\n",
    "                poly_ort.plot(ax=axs,facecolor='none', edgecolor='green')\n",
    "                axs.annotate(text=row_orte[\"name\"], xy=(p_center[0].x,p_center[0].y), horizontalalignment='center')\n",
    "        if len(ort_in_gem_gdf)==0:\n",
    "            gem_poly_gpd = gpd.GeoSeries(gem_poly)\n",
    "            gem_poly_gpd.plot(ax=axs,facecolor='none', edgecolor='blue') \n",
    "        gdf_gem_hn.plot(ax=axs,column='triptime',markersize =5, cmap=cmap,norm=norm)\n",
    "        #nc = [node_colors[node] if node in node_colors else \"none\" for node in gdf_gem_walk.nodes()]\n",
    "        #ns = [5 if node in node_colors else 0 for node in gdf_gem_walk.nodes()]\n",
    "        #poly_ort.plot(ax=axs,facecolor='none', edgecolor='green')\n",
    "        fig, ax = ox.plot_graph(\n",
    "            gem_walk_net,\n",
    "            ax=axs,\n",
    "            #node_color=nc,\n",
    "            #node_size=ns,\n",
    "            node_alpha=0.8,\n",
    "            edge_linewidth=0.2,\n",
    "            edge_color=\"#999999\",\n",
    "            show=False, \n",
    "            close=False\n",
    "        )\n",
    "        for cur in sc:\n",
    "            axs.scatter(cur[0].x,cur[0].y,color='red',s=80)    \n",
    "            axs.annotate(text=cur[1], xy=(cur[0].x,cur[0].y), horizontalalignment='center')\n",
    "            #axs[sw//br,sw%br].set_ylim(poly_gem.bounds[\"miny\"][0],poly_gem.bounds[\"maxy\"][0])\n",
    "            #axs[sw//br,sw%br].set_xlim(poly_gem.bounds[\"minx\"][0],poly_gem.bounds[\"maxx\"][0])\n",
    "        plt.savefig('images/'+gem_name+'.png')\n",
    "        #plt.show()\n",
    "\n"
   ]
  },
  {
   "cell_type": "code",
   "execution_count": null,
   "id": "36bdecfc-a890-4414-9135-c69a364a5389",
   "metadata": {},
   "outputs": [],
   "source": [
    "(int(gp_b*size), int(gp_l*size))"
   ]
  },
  {
   "cell_type": "code",
   "execution_count": null,
   "id": "c08e7215-bea3-4470-bcf3-2e8b006c125e",
   "metadata": {},
   "outputs": [],
   "source": [
    "#hn_colors_series = pd.DataFrame.from_dict(hn_colors,orient='index')\n",
    "#hn_colors_series\n",
    "\n",
    "colors = map(lambda x: hn_colors.get(x, (0.5,0.5,0.5,1)), gdf_gem_hn.index.get_level_values(1))"
   ]
  },
  {
   "cell_type": "code",
   "execution_count": null,
   "id": "4f3445b3-1fc6-4d52-9fb0-3b139473c612",
   "metadata": {},
   "outputs": [],
   "source": [
    "#hn_colors\n",
    "for cur in gdf_gem_hn.index:\n",
    "    osmid =cur[1] \n",
    "    #print (cur[1])\n",
    "    if osmid in hn_colors:\n",
    "        print(hn_colors[osmid])"
   ]
  }
 ],
 "metadata": {
  "kernelspec": {
   "display_name": "Python 3 (ipykernel)",
   "language": "python",
   "name": "python3"
  },
  "language_info": {
   "codemirror_mode": {
    "name": "ipython",
    "version": 3
   },
   "file_extension": ".py",
   "mimetype": "text/x-python",
   "name": "python",
   "nbconvert_exporter": "python",
   "pygments_lexer": "ipython3",
   "version": "3.12.4"
  }
 },
 "nbformat": 4,
 "nbformat_minor": 5
}
