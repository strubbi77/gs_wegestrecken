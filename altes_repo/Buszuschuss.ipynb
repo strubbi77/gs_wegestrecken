{
 "cells": [
  {
   "cell_type": "code",
   "execution_count": 33,
   "id": "35d1933b-0838-4507-a1f2-c4ce18404570",
   "metadata": {},
   "outputs": [
    {
     "ename": "InsufficientResponseError",
     "evalue": "Nominatim geocoder returned 0 results for query 'area[name=\"Breisgau-Hochschwarzwald\"];'",
     "output_type": "error",
     "traceback": [
      "\u001b[1;31m---------------------------------------------------------------------------\u001b[0m",
      "\u001b[1;31mInsufficientResponseError\u001b[0m                 Traceback (most recent call last)",
      "Cell \u001b[1;32mIn[33], line 60\u001b[0m\n\u001b[0;32m     54\u001b[0m place\u001b[38;5;241m=\u001b[39m\u001b[38;5;124m'\u001b[39m\u001b[38;5;124marea[name=\u001b[39m\u001b[38;5;124m\"\u001b[39m\u001b[38;5;124mBreisgau-Hochschwarzwald\u001b[39m\u001b[38;5;124m\"\u001b[39m\u001b[38;5;124m];\u001b[39m\u001b[38;5;124m'\u001b[39m\n\u001b[0;32m     56\u001b[0m \u001b[38;5;66;03m#places={\"Offnadingen\":\"Offnadingen\",\"Bad Krozingen\":\"Bad Krozingen\",\"Staufen\":\"Staufen im Breisgau\"}\u001b[39;00m\n\u001b[0;32m     57\u001b[0m \u001b[38;5;66;03m#gdf = ox.geocode_to_gdf(list(places.values()),tags=tags)\u001b[39;00m\n\u001b[0;32m     58\u001b[0m \u001b[38;5;66;03m#gdf = ox.geocode_to_gdf(['Offnadingen','Rudenberg','Kappel'])\u001b[39;00m\n\u001b[0;32m     59\u001b[0m \u001b[38;5;66;03m#gdf = ox.geocode_to_gdf(['Kappel','is_in:Breisgau-Hochschwarzwald'])\u001b[39;00m\n\u001b[1;32m---> 60\u001b[0m gdf \u001b[38;5;241m=\u001b[39m \u001b[43mox\u001b[49m\u001b[38;5;241;43m.\u001b[39;49m\u001b[43mgeocode_to_gdf\u001b[49m\u001b[43m(\u001b[49m\u001b[43mplace\u001b[49m\u001b[43m)\u001b[49m\n\u001b[0;32m     62\u001b[0m ax \u001b[38;5;241m=\u001b[39m gdf\u001b[38;5;241m.\u001b[39mplot()\n\u001b[0;32m     63\u001b[0m ax\n",
      "File \u001b[1;32m~\\AppData\\Local\\Packages\\PythonSoftwareFoundation.Python.3.10_qbz5n2kfra8p0\\LocalCache\\local-packages\\Python310\\site-packages\\osmnx\\geocoder.py:139\u001b[0m, in \u001b[0;36mgeocode_to_gdf\u001b[1;34m(query, which_result, by_osmid, buffer_dist)\u001b[0m\n\u001b[0;32m    137\u001b[0m gdf \u001b[38;5;241m=\u001b[39m gpd\u001b[38;5;241m.\u001b[39mGeoDataFrame()\n\u001b[0;32m    138\u001b[0m \u001b[38;5;28;01mfor\u001b[39;00m q, wr \u001b[38;5;129;01min\u001b[39;00m \u001b[38;5;28mzip\u001b[39m(query, which_result):\n\u001b[1;32m--> 139\u001b[0m     gdf \u001b[38;5;241m=\u001b[39m pd\u001b[38;5;241m.\u001b[39mconcat([gdf, \u001b[43m_geocode_query_to_gdf\u001b[49m\u001b[43m(\u001b[49m\u001b[43mq\u001b[49m\u001b[43m,\u001b[49m\u001b[43m \u001b[49m\u001b[43mwr\u001b[49m\u001b[43m,\u001b[49m\u001b[43m \u001b[49m\u001b[43mby_osmid\u001b[49m\u001b[43m)\u001b[49m])\n\u001b[0;32m    141\u001b[0m \u001b[38;5;66;03m# reset GeoDataFrame index and set its CRS\u001b[39;00m\n\u001b[0;32m    142\u001b[0m gdf \u001b[38;5;241m=\u001b[39m gdf\u001b[38;5;241m.\u001b[39mreset_index(drop\u001b[38;5;241m=\u001b[39m\u001b[38;5;28;01mTrue\u001b[39;00m)\n",
      "File \u001b[1;32m~\\AppData\\Local\\Packages\\PythonSoftwareFoundation.Python.3.10_qbz5n2kfra8p0\\LocalCache\\local-packages\\Python310\\site-packages\\osmnx\\geocoder.py:186\u001b[0m, in \u001b[0;36m_geocode_query_to_gdf\u001b[1;34m(query, which_result, by_osmid)\u001b[0m\n\u001b[0;32m    183\u001b[0m \u001b[38;5;28;01mif\u001b[39;00m \u001b[38;5;129;01mnot\u001b[39;00m results:\n\u001b[0;32m    184\u001b[0m     \u001b[38;5;66;03m# if no results were returned, raise error\u001b[39;00m\n\u001b[0;32m    185\u001b[0m     msg \u001b[38;5;241m=\u001b[39m \u001b[38;5;124mf\u001b[39m\u001b[38;5;124m\"\u001b[39m\u001b[38;5;124mNominatim geocoder returned 0 results for query \u001b[39m\u001b[38;5;132;01m{\u001b[39;00mquery\u001b[38;5;132;01m!r}\u001b[39;00m\u001b[38;5;124m\"\u001b[39m\n\u001b[1;32m--> 186\u001b[0m     \u001b[38;5;28;01mraise\u001b[39;00m InsufficientResponseError(msg)\n\u001b[0;32m    188\u001b[0m \u001b[38;5;28;01mif\u001b[39;00m by_osmid:\n\u001b[0;32m    189\u001b[0m     \u001b[38;5;66;03m# if searching by OSM ID, always take the first (ie, only) result\u001b[39;00m\n\u001b[0;32m    190\u001b[0m     result \u001b[38;5;241m=\u001b[39m results[\u001b[38;5;241m0\u001b[39m]\n",
      "\u001b[1;31mInsufficientResponseError\u001b[0m: Nominatim geocoder returned 0 results for query 'area[name=\"Breisgau-Hochschwarzwald\"];'"
     ]
    }
   ],
   "source": [
    "import osmnx as ox\n",
    "import geopandas as ppd\n",
    "\n",
    "tags = {'building': True}   \n",
    "\n",
    "#eki=ox.features_from_place(\"Offnadingen\",tags)\n",
    "#bk=ox.features_from_place(\"Bad Krozingen\",tags)\n",
    "#st=ox.features_from_place(\"Staufen im Breisgau\",tags)\n",
    "tags = {'is_in': 'Breisgau-Hochschwarzwald'}\n",
    "places={'Lipburg':'Lipburg'\n",
    ",'Sehrigen':'Sehrigen'\n",
    ",'St. Ulrich':'St. Ulrich'\n",
    ",'Gündlingen':'Gündlingen'\n",
    ",'Hochstetten':'Hochstetten'\n",
    ",'Unteribental':'Unteribental'\n",
    ",'Wagensteig':'Wagensteig'\n",
    ",'Falkensteig':'Falkensteig'\n",
    ",'Scherzingen':'Scherzingen'\n",
    ",'Offnadingen':'Offnadingen'\n",
    ",'Norsingen':'Norsingen'\n",
    ",'Bubenbach':'Bubenbach'\n",
    ",'Schollach':'Schollach'\n",
    ",'Oberbränd':'Oberbränd'\n",
    ",'Feldberg-Ort':'Feldberg-Ort'\n",
    ",'Kleineisenbach':'Kleineisenbach'\n",
    ",'Friedenweiler':'Friedenweiler'\n",
    "#,'Geroldstal':'Geroldstal'\n",
    ",'Saig':'Saig'\n",
    ",'Raitenbuch':'Raitenbuch'\n",
    ",'Kappel':'Kappel'\n",
    ",'Ruhbühl':'Ruhbühl'\n",
    ",'Reiselfingen':'Reiselfingen'\n",
    ",'Dittishausen':'Dittishausen'\n",
    ",'Feldberg':'Feldberg'\n",
    ",'Steinenstadt':'Steinenstadt'\n",
    ",'Grißheim':'Grißheim'\n",
    ",'Zienken':'Zienken'\n",
    ",'Hofsgrund':'Hofsgrund'\n",
    ",'St. Wilhelm':'St. Wilhelm'\n",
    ",'Schönenbach':'Schönenbach'\n",
    ",'Aha':'Aha'\n",
    ",'Blasiwald':'Blasiwald'\n",
    ",'Fischbach':'Fischbach'\n",
    ",'Faulenfürst':'Faulenfürst'\n",
    ",'Schwärzenbach':'Schwärzenbach'\n",
    ",'Langenordnach':'Langenordnach'\n",
    ",'Rudenberg':'Rudenberg'\n",
    ",'Achkarren':'Achkarren'\n",
    ",'Schelingen':'Schelingen'\n",
    ",'Burkheim':'Burkheim'\n",
    "\n",
    "}\n",
    "\n",
    "place='area[name=\"Breisgau-Hochschwarzwald\"];'\n",
    "\n",
    "#places={\"Offnadingen\":\"Offnadingen\",\"Bad Krozingen\":\"Bad Krozingen\",\"Staufen\":\"Staufen im Breisgau\"}\n",
    "#gdf = ox.geocode_to_gdf(list(places.values()),tags=tags)\n",
    "#gdf = ox.geocode_to_gdf(['Offnadingen','Rudenberg','Kappel'])\n",
    "#gdf = ox.geocode_to_gdf(['Kappel','is_in:Breisgau-Hochschwarzwald'])\n",
    "gdf = ox.geocode_to_gdf(place)\n",
    "\n",
    "ax = gdf.plot()\n",
    "ax\n",
    "#area = ox.features_from_place(places, tags)"
   ]
  },
  {
   "cell_type": "code",
   "execution_count": 19,
   "id": "232a92a3-a200-4c8d-a026-75b0aa549c5b",
   "metadata": {},
   "outputs": [
    {
     "data": {
      "text/plain": [
       "dict_values(['Lipburg', 'St. Wilhelm', 'Fischbach', 'Feldberg-Ort', 'Friedenweiler', 'Hochstetten', 'Zienken', 'Oberbränd', 'Kappel', 'St. Ulrich', 'Burkheim', 'Feldberg', 'Rudenberg', 'Falkensteig', 'Norsingen', 'Dittishausen'])"
      ]
     },
     "execution_count": 19,
     "metadata": {},
     "output_type": "execute_result"
    }
   ],
   "source": [
    "places.values()"
   ]
  },
  {
   "cell_type": "code",
   "execution_count": null,
   "id": "e319c94d-c0eb-43a4-b557-77a9edb85607",
   "metadata": {},
   "outputs": [],
   "source": []
  }
 ],
 "metadata": {
  "kernelspec": {
   "display_name": "Python 3 (ipykernel)",
   "language": "python",
   "name": "python3"
  },
  "language_info": {
   "codemirror_mode": {
    "name": "ipython",
    "version": 3
   },
   "file_extension": ".py",
   "mimetype": "text/x-python",
   "name": "python",
   "nbconvert_exporter": "python",
   "pygments_lexer": "ipython3",
   "version": "3.10.11"
  }
 },
 "nbformat": 4,
 "nbformat_minor": 5
}
